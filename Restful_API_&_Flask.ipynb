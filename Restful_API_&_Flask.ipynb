{
  "nbformat": 4,
  "nbformat_minor": 0,
  "metadata": {
    "colab": {
      "provenance": [],
      "authorship_tag": "ABX9TyOPcQwF4jhpYlRV5BmjtMRO",
      "include_colab_link": true
    },
    "kernelspec": {
      "name": "python3",
      "display_name": "Python 3"
    },
    "language_info": {
      "name": "python"
    }
  },
  "cells": [
    {
      "cell_type": "markdown",
      "metadata": {
        "id": "view-in-github",
        "colab_type": "text"
      },
      "source": [
        "<a href=\"https://colab.research.google.com/github/mohit27-maker/pwAssigment/blob/main/Restful_API_%26_Flask.ipynb\" target=\"_parent\"><img src=\"https://colab.research.google.com/assets/colab-badge.svg\" alt=\"Open In Colab\"/></a>"
      ]
    },
    {
      "cell_type": "markdown",
      "source": [
        "# ***Assignment Questions***"
      ],
      "metadata": {
        "id": "ev62wk582qpW"
      }
    },
    {
      "cell_type": "markdown",
      "source": [
        "1. What is a RESTful API?\n",
        "\n",
        " = A RESTful API is a way for applications to communicate over the web using standard HTTP methods (GET, POST, PUT, DELETE).\n",
        "It is stateless, resource-based, and usually returns data in JSON format.\n",
        "\n",
        "2. Explain the concept of API specification.\n",
        "\n",
        " = An API specification is a detailed document that defines how an API works.\n",
        "It describes the available endpoints (URLs), methods (GET, POST, etc.), required parameters, request/response formats, and possible error codes.\n",
        "\n",
        "3. What is Flask, and why is it popular for building APIs?\n",
        "\n",
        " = Flask is a lightweight Python web framework used to build web applications and APIs.\n",
        "It is popular because it’s simple, flexible, and minimal, allowing developers to quickly create APIs without unnecessary complexity.\n",
        "\n",
        "4. What is routing in Flask?\n",
        "\n",
        " = Routing in Flask is the process of mapping a URL to a specific function in your code.It tells Flask which function should run when a user visits a particular path.\n",
        "\n",
        "5. How do you create a simple Flask application?\n",
        "\n",
        "> from flask import Flask  \n",
        "  app = Flask(__name__)  \n",
        "  @app.route(\"/\")  \n",
        "  def home():  \n",
        "    return \"Hello, Flask!\"  \n",
        "  if __name__ == \"__main__\":  \n",
        "    app.run(debug=True)  \n",
        "\n",
        " 6. What are HTTP methods used in RESTful APIs.\n",
        "\n",
        "  = The main HTTP methods used in RESTful APIs are:\n",
        "\n",
        "-GET → Retrieve data (read).\n",
        "\n",
        "-POST → Create new data.\n",
        "\n",
        "-PUT → Update/replace existing data.\n",
        "\n",
        "-PATCH → Partially update data.\n",
        "\n",
        "-DELETE → Remove data.\n",
        "\n",
        "7. What is the purpose of the @app.route() decorator in Flask?\n",
        "\n",
        " = The @app.route() decorator in Flask is used to bind a URL path to a specific function. It tells Flask: “when this URL is requested, run this function and return its response.”\n",
        "\n",
        "8. What is the difference between GET and POST HTTP methods?\n",
        "\n",
        "- GET → Used to retrieve data from the server. Data is sent in the URL (query string) and is visible.\n",
        "- POST → Used to send data to the server (like forms). Data is sent in the request body and is not visible in the URL.\n",
        "\n",
        "9. How do you handle errors in Flask APIs?\n",
        "\n",
        ">from flask import Flask, jsonify  \n",
        "app = Flask(__name__)  \n",
        "@app.errorhandler(404)  \n",
        "def not_found(e):  \n",
        "    return jsonify({\"error\": \"Resource not found\"}), 404  \n",
        "\n",
        "10. How do you connect Flask to a SQL database?\n",
        "\n",
        " = Flask connects to a SQL database using Flask-SQLAlchemy, which acts as an ORM to manage tables and queries. You configure the database URI in Flask, define models as Python classes, and SQLAlchemy handles the database interactions.\n",
        "\n",
        "11. What is the role of Flask-SQLAlchemy.\n",
        "\n",
        " = Flask-SQLAlchemy is an extension that integrates SQLAlchemy with Flask.\n",
        "It simplifies database connections, lets you define tables as Python classes (models), and provides easy methods to perform CRUD operations.\n",
        "\n",
        "12. What are Flask blueprints, and how are they useful.\n",
        "\n",
        " = Flask Blueprints are a way to organize a Flask application into smaller, reusable modules.They let you group routes, templates, and static files for different parts of the app, making large applications more structured, scalable, and maintainable.\n",
        "\n",
        "13. What is the purpose of Flask's request object?\n",
        "\n",
        " = Flask’s request object is used to access data sent by the client in an HTTP request.It lets you read things like form data, JSON, query parameters, headers, and files from the incoming request.\n",
        "\n",
        "14. How do you create a RESTful API endpoint using Flask.\n",
        "\n",
        " = To create a RESTful API endpoint in Flask, you define a route with @app.route() and return data.\n",
        "> from flask import Flask, jsonify  \n",
        "app = Flask(__name__)  \n",
        "@app.route(\"/api/user\", methods=[\"GET\"])  \n",
        "def get_user():  \n",
        "    return jsonify({\"id\": 1, \"name\": \"rohit\"})  \n",
        "\n",
        "15.  What is the purpose of Flask's jsonify() function?\n",
        "\n",
        " = Flask’s jsonify() function is used to convert Python dictionaries or lists into JSON responses.\n",
        "It also sets the correct MIME type (application/json), making it easier for APIs to return structured data to clients.\n",
        "\n",
        "16. Explain Flask’s url_for() function.\n",
        "\n",
        " = Flask’s url_for() function is used to dynamically generate URLs for routes in your application.Instead of hardcoding URLs, it builds them using the function name, making code easier to maintain if routes change.\n",
        "\n",
        "17. What is an API specification, and how does it help in building a Flask API?\n",
        "\n",
        " = An API specification is a document that clearly defines how an API should work, including its endpoints, request methods, parameters, request/response formats, and error codes.It helps in building a Flask API by serving as a blueprint, ensuring consistency, easier collaboration between developers, and making the API easier to test and integrate.\n",
        "\n",
        "18. What are HTTP status codes, and why are they important in a Flask API?\n",
        "\n",
        " = HTTP status codes are standardized codes returned by a server to indicate the result of a client’s request.They are important in a Flask API because they inform clients about success, errors, or required actions, making communication clear and reliable.\n",
        "\n",
        "19. How does Flask handle static files (CSS, JavaScript, etc.)?\n",
        "\n",
        " = Flask serves static files (like CSS, JS, images) from a special static/` folder in the project directory.You can access them in templates using url_for('static', filename='file.css'), which generates the correct path automatically.\n",
        "\n",
        "20. How do you handle POST requests in Flask?\n",
        "\n",
        " = In Flask, you handle POST requests by allowing the route to accept the POST method and then accessing the data from the request object.\n",
        "\n",
        "21. How would you secure a Flask API?\n",
        "\n",
        "> You can secure a Flask API by:\n",
        "- Using authentication & authorization.\n",
        "- Enabling HTTPS to encrypt data in transit.\n",
        "- Validating and sanitizing input data to prevent attacks.\n",
        "- Implementing rate limiting and proper error handling.\n",
        "\n",
        "22. What is the significance of the Flask-RESTful extension?\n",
        "\n",
        " = Flask-RESTful is an extension that simplifies building RESTful APIs with Flask.It provides tools like Resource classes, easy handling of HTTP methods, and built-in support for request parsing and error handling, making API development faster and more organized.\n",
        "\n",
        "23. What is the role of Flask’s session object?\n",
        "\n",
        " = Flask’s session object is used to store data about a user across multiple requests.It keeps data on the server side but sends a secure cookie to the client to track the session."
      ],
      "metadata": {
        "id": "5sb_BlBY2uMs"
      }
    },
    {
      "cell_type": "markdown",
      "source": [
        "# ***Practical***"
      ],
      "metadata": {
        "id": "RAWNsu8-QKGu"
      }
    },
    {
      "cell_type": "code",
      "source": [
        "# How do you create a basic Flask application?\n",
        "from flask import Flask\n",
        "\n",
        "app = Flask(__name__)\n",
        "\n",
        "@app.route(\"/\")\n",
        "def home():\n",
        "  return \"Hello,flask!\"\n",
        "\n",
        "if __name__ == \"__main__\":\n",
        "  app.run(debug=True)"
      ],
      "metadata": {
        "colab": {
          "base_uri": "https://localhost:8080/"
        },
        "id": "1DbclobTQOQD",
        "outputId": "f3c8dbbb-2307-4f13-9b61-281a9d1a5bb4"
      },
      "execution_count": null,
      "outputs": [
        {
          "metadata": {
            "tags": null
          },
          "name": "stdout",
          "output_type": "stream",
          "text": [
            " * Serving Flask app '__main__'\n",
            " * Debug mode: on\n"
          ]
        },
        {
          "metadata": {
            "tags": null
          },
          "name": "stderr",
          "output_type": "stream",
          "text": [
            "INFO:werkzeug:\u001b[31m\u001b[1mWARNING: This is a development server. Do not use it in a production deployment. Use a production WSGI server instead.\u001b[0m\n",
            " * Running on http://127.0.0.1:5000\n",
            "INFO:werkzeug:\u001b[33mPress CTRL+C to quit\u001b[0m\n",
            "INFO:werkzeug: * Restarting with watchdog (inotify)\n"
          ]
        }
      ]
    },
    {
      "cell_type": "code",
      "source": [
        "# How do you serve static files like images or CSS in Flask?\n",
        "> '''In Flask, static files like CSS, JavaScript, and images are stored in a special static/ folder.\n",
        "  They can be linked in HTML using url_for('static', filename='...'), which generates the correct path.\n",
        "  This allows Flask apps to serve styled pages and media files easily along with dynamic content.'''\n",
        "\n",
        "from flask import Flask , render_template\n",
        "\n",
        "app = flask(__name__)\n",
        "\n",
        "@app.route('/')\n",
        "def home():\n",
        "  return render_template(\"index.html\")\n",
        "\n",
        "if __name__ == '__main__':\n",
        "  app.run(debug=True)"
      ],
      "metadata": {
        "id": "E1gXrD64AtiY"
      },
      "execution_count": null,
      "outputs": []
    },
    {
      "cell_type": "code",
      "source": [
        "# How do you define different routes with different HTTP methods in Flask?\n",
        "from flask import Flask\n",
        "\n",
        "app = flask(__name__)\n",
        "@app.route('/user',methods['GET'])\n",
        "def get_user():\n",
        "  return \"get request - get user\"\n",
        "\n",
        "@ap.route(\"/user\",method['POST'])\n",
        "def get_user():\n",
        "  return \"post request - create user\"\n",
        "\n",
        "if __name__ = '__main__'\n",
        " app.run(debug=True)"
      ],
      "metadata": {
        "id": "OnUkBDoYg_sT"
      },
      "execution_count": null,
      "outputs": []
    },
    {
      "cell_type": "code",
      "source": [
        "#How do you render HTML templates in Flask?\n",
        "from flask import Flask,render_template\n",
        "\n",
        "app = flask(__name__)\n",
        "\n",
        "@app.route(\"/\")\n",
        "def home():\n",
        "  return render_template(\"idex.html\")"
      ],
      "metadata": {
        "id": "rlf2goJCiM1e"
      },
      "execution_count": null,
      "outputs": []
    },
    {
      "cell_type": "code",
      "source": [
        "# How can you generate URLs for routes in Flask using url_for?\n",
        "from flask import Flask,url_for\n",
        "app = Flask(__name__)\n",
        "\n",
        "@app.route(\"/\")\n",
        "def home():\n",
        "  return \"Home Page\"\n",
        "\n",
        "@app.route(\"/about\")\n",
        "def about():\n",
        "  return \"About Page\"\n",
        "\n",
        "with app.test_request_context():\n",
        "  print(url_for(\"home\"))\n",
        "  print(url_for(\"about\"))\n"
      ],
      "metadata": {
        "id": "7WK0MN1RiM3n"
      },
      "execution_count": null,
      "outputs": []
    },
    {
      "cell_type": "code",
      "source": [
        "#How do you handle forms in Flask?\n",
        "from flask import Flask,request,render_template\n",
        "\n",
        "app = Flask(__name__)\n",
        "\n",
        "@app.route(\"/\",method = [\"GET\",\"POST\"])\n",
        "def from():\n",
        "  if request.method == \"post\":\n",
        "  name = request.form[\"name\"]\n",
        "  return f\"Hello,{name}\"\n",
        "  retun render_template(\"form.html\")"
      ],
      "metadata": {
        "id": "CJGaMefIj6hY"
      },
      "execution_count": null,
      "outputs": []
    },
    {
      "cell_type": "code",
      "source": [
        "#How can you validate form data in Flask?\n",
        "from flask import Flask,request,render_template\n",
        "\n",
        "app = Flask(__name__)"
      ],
      "metadata": {
        "id": "Ce4FH_S5j7Hy"
      },
      "execution_count": null,
      "outputs": []
    },
    {
      "cell_type": "code",
      "source": [
        "#How do you manage sessions in Flask?\n",
        "from flask import Flask ,sesion\n",
        "\n",
        "app = flask(__name__)\n",
        "session_key = \"secret123\"\n",
        "\n",
        "@app.route(\"/set\")\n",
        "def set_session():\n",
        "  session[\"username\"] = \"rohit\"\n",
        "  return \"session set!\"\n",
        "\n",
        "@app.route(\"/get\")\n",
        "def det_session():\n",
        "  return session.det(\"username\",\"not set\")"
      ],
      "metadata": {
        "id": "Znue7sM5j7Sw"
      },
      "execution_count": null,
      "outputs": []
    },
    {
      "cell_type": "code",
      "source": [
        "#How do you redirect to a different route in Flask?\n",
        "from flask import Flask , redirect,url_for\n",
        "\n",
        "app = flask(__name__)\n",
        "\n",
        "@app.route(\"/\")\n",
        "def home():\n",
        "  return \"Home page\"\n",
        "\n",
        "@app,route(\"/go\")\n",
        "def go():\n",
        "  return redirect(url_for(\"Home\"))"
      ],
      "metadata": {
        "id": "VbM-Us10iM7C"
      },
      "execution_count": null,
      "outputs": []
    },
    {
      "cell_type": "code",
      "source": [
        "#How do you handle errors in Flask (e.g., 404)?\n",
        "from flask import Flask\n",
        "\n",
        "app = flask(__name__)\n",
        "\n",
        "@app.errorhandle(404)\n",
        "def page_not_found(error):\n",
        "  return \"oooops! page not found (404)\", 404"
      ],
      "metadata": {
        "id": "48aJTTGZDfU8"
      },
      "execution_count": null,
      "outputs": []
    },
    {
      "cell_type": "code",
      "source": [
        "#How do you structure a Flask app using Blueprints?\n",
        "from flask import Blueprint\n",
        "\n",
        "home_bp = Blueprint(\"home\",__name__)\n",
        "\n",
        "@home_bp.route(\"/\")\n",
        "def home():\n",
        "  return \"Hello from blueprint!\"\n",
        "\n",
        "\n",
        "#app.py\n",
        "from flask import Flask\n",
        "from home.routes import home_bp\n",
        "\n",
        "app = Flask(__name__)\n",
        "app.register_blueprint(home_bp)\n",
        "\n",
        "if __name__ == \"__main__\":\n",
        "    app.run(debug=True)"
      ],
      "metadata": {
        "id": "TtSgBUhQDfYO"
      },
      "execution_count": null,
      "outputs": []
    },
    {
      "cell_type": "code",
      "source": [
        "#How do you define a custom Jinja filter in Flask?\n",
        "import flask from Flask,render_template\n",
        "\n",
        "app = flask(__name__)\n",
        "\n",
        "@app.template_filter(\"reserve\")\n",
        "def template_filter(s):\n",
        "  return s[::1]\n",
        "\n",
        "@app.route(\"/\")\n",
        "def home():\n",
        "  return temlate_render(\"index.html\",name=\"flask\")"
      ],
      "metadata": {
        "id": "GK68wdumDffp"
      },
      "execution_count": null,
      "outputs": []
    },
    {
      "cell_type": "code",
      "source": [
        "#How can you redirect with query parameters in Flask?\n",
        "from flask import Flask, redirect, url_for, request\n",
        "\n",
        "app = Flask(__name__)\n",
        "\n",
        "@app.route(\"/\")\n",
        "def home():\n",
        "    user = request.args.get(\"user\", \"Guest\")\n",
        "    return f\"Hello, {user}!\"\n",
        "\n",
        "@app.route(\"/login\")\n",
        "def login():\n",
        "    return redirect(url_for(\"home\", user=\"rohit\"))"
      ],
      "metadata": {
        "id": "LeJXDEj5DggN"
      },
      "execution_count": null,
      "outputs": []
    },
    {
      "cell_type": "code",
      "source": [
        "# How do you return JSON responses in Flask?\n",
        "from flask import Flask, jsonify\n",
        "\n",
        "app = Flask(__name__)\n",
        "\n",
        "@app.route(\"/user\")\n",
        "def get_user():\n",
        "    return jsonify({\"id\": 1, \"name\": \"ravi\"})"
      ],
      "metadata": {
        "id": "wjuLm8DFDgpb"
      },
      "execution_count": null,
      "outputs": []
    },
    {
      "cell_type": "code",
      "source": [
        "#How do you capture URL parameters in Flask?\n",
        "from flask import Flask\n",
        "\n",
        "app = Flask(__name__)\n",
        "\n",
        "@app.route(\"/user/<username>\")\n",
        "def show_user(username):\n",
        "    return f\"Hello, {username}!\""
      ],
      "metadata": {
        "id": "bxd-F4QmDg7z"
      },
      "execution_count": null,
      "outputs": []
    },
    {
      "cell_type": "code",
      "source": [],
      "metadata": {
        "id": "pnD9S7F-DhHv"
      },
      "execution_count": null,
      "outputs": []
    }
  ]
}