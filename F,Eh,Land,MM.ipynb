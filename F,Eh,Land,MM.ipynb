{
  "nbformat": 4,
  "nbformat_minor": 0,
  "metadata": {
    "colab": {
      "provenance": [],
      "authorship_tag": "ABX9TyOPr/Rp+t2XjP2ZNgIF0HfZ",
      "include_colab_link": true
    },
    "kernelspec": {
      "name": "python3",
      "display_name": "Python 3"
    },
    "language_info": {
      "name": "python"
    }
  },
  "cells": [
    {
      "cell_type": "markdown",
      "metadata": {
        "id": "view-in-github",
        "colab_type": "text"
      },
      "source": [
        "<a href=\"https://colab.research.google.com/github/mohit27-maker/pwAssigment/blob/main/F%2CEh%2CLand%2CMM.ipynb\" target=\"_parent\"><img src=\"https://colab.research.google.com/assets/colab-badge.svg\" alt=\"Open In Colab\"/></a>"
      ]
    },
    {
      "cell_type": "markdown",
      "source": [
        "# ***`Files, exceptional handling, logging and memory management Questions`***"
      ],
      "metadata": {
        "id": "b6qAvss6TJ7I"
      }
    },
    {
      "cell_type": "markdown",
      "source": [
        "1. What is the difference between interpreted and compiled languages?\n",
        "\n",
        " > compiled language : the source code translated into machine code by a        compiler before it is run.\n",
        "\n",
        " > interpreted lamguage : The source code is executed line-by-line by an interpreter at runtime.\n",
        "\n",
        "2. What is exception handling in Python?\n",
        "\n",
        " = Exception handling in Python is a method to manage runtime errors using try, except, else, and finally blocks. It helps prevent program crashes and allows graceful error messages.\n",
        "\n",
        "3. What is the purpose of the finally block in exception handling?\n",
        "\n",
        " = The finally block in Python is used to execute code regardless of whether an exception occurred or not. It’s typically used for cleanup actions like closing files or releasing resources.\n",
        "\n",
        "4. What is the significance of the __del__ method in Python?\n",
        "\n",
        " = The __del__ method in Python is a destructor that's called when an object is about to be destroyed. It's used to clean up resources like closing files or network connections before the object is removed from memory.\n",
        "\n",
        "5. What is logging in Python?\n",
        "\n",
        " = Logging in Python is the process of recording messages about a program’s execution for debugging or monitoring. The logging module allows you to track events, errors, and status updates instead of using print statements.\n",
        "\n",
        "6. What is the difference between import and from ... import in Python?\n",
        "\n",
        " > import module loads the entire module, and you access        functions with module.name.\n",
        "\n",
        " > from module import name loads only specific parts, letting you use them directly without the module prefix.\n",
        "\n",
        "7. How can you handle multiple exceptions in Python?\n",
        "\n",
        " = we can handle multiple exceptions by listing them in a single except bloack or single except clause as a tuple.\n",
        "\n",
        "8. What is the purpose of the with statement when handling files in Python?\n",
        "\n",
        " = The with statement in Python is used for automatic resource management, especially with files. It opens the file and ensures it's closed properly, even if an error occurs during file operations.\n",
        "\n",
        "9. What is the difference between multithreading and multiprocessing?\n",
        "\n",
        " > Multithreading uses multiple threads within a single process to perform tasks concurrently, sharing the same memory.\n",
        "\n",
        " > Multiprocessing uses multiple processes, each with its own memory space, offering better performance for CPU-bound tasks.\n",
        "\n",
        "10. What are the advantages of using logging in a program?\n",
        "\n",
        " = Logging helps in tracking events, errors, and flow of a program for easier debugging and maintenance. It allows you to record messages at different severity levels and store logs in files for future analysis.\n",
        "\n",
        "11. What is memory management in Python?\n",
        "\n",
        " = Memory management in Python involves allocating and releasing memory automatically using techniques like reference counting and garbage collection.\n",
        "\n",
        "12. What are the basic steps involved in exception handling in Python?\n",
        "\n",
        " = The basic steps in exception handling are:\n",
        "\n",
        " > Use a \"try\" block to write code that may raise an exception.\n",
        "\n",
        " > Use \"except\" to catch and handle specific exceptions. Optionally, use else and finally for additional control.\n",
        "\n",
        "13. Why is memory management important in Python?\n",
        "\n",
        " = Memory management is important in Python to prevent memory leaks and ensure efficient use of system resources. It helps maintain program performance and stability by automatically reclaiming unused memory.\n",
        "\n",
        "14. What is the role of try and except in exception handling?\n",
        "\n",
        " = The try block contains code that might raise an exception, while the except block catches and handles the error.\n",
        "\n",
        "15. How does Python's garbage collection system work?\n",
        "\n",
        " = Python’s garbage collection system automatically frees memory by removing objects no longer in use. It uses reference counting and a cyclic garbage collector to detect and clean up unused or circularly referenced objects.\n",
        "\n",
        "16. What is the purpose of the else block in exception handling?\n",
        "\n",
        " = The else block runs only if no exceptions occur in the try block. It’s useful for placing code that should execute only when the try block succeeds.\n",
        "\n",
        "17. What are the common logging levels in Python?\n",
        "\n",
        " = The common logging levels in Python, from lowest to highest severity, are:\n",
        "\n",
        " - DEBUG: Detailed information for diagnosing problems\n",
        " - INFO: General events or status updates\n",
        " - WARNING: Something unexpected or potentially problematic\n",
        " - ERROR: A serious problem that caused a failure\n",
        " - CRITICAL: A very severe error that may stop the program\n",
        "\n",
        "18. What is the difference between os.fork() and multiprocessing in Python?\n",
        "\n",
        " - os.fork() creates a child process by duplicating the current process (Unix only), giving you low-level control.\n",
        " - multiprocessing is a high-level module that works on all platforms and provides easier process creation, communication, and management.\n",
        "\n",
        "19. What is the importance of closing a file in Python?\n",
        "\n",
        " = Closing a file in Python is important to free system resources and ensure that all data is properly written to disk. It also helps prevent data corruption or file access issues in larger programs.\n",
        "\n",
        "20. What is the difference between file.read() and file.readline() in Python?\n",
        "\n",
        "- file.read() reads the entire content of a file as a single string.\n",
        "- file.readline() reads only one line at a time from the file.\n",
        "\n",
        "21. What is the logging module in Python used for?\n",
        "\n",
        " = The logging module in Python is used to record messages about a program’s execution, such as errors, warnings, or info.\n",
        "\n",
        "22.  What is the os module in Python used for in file handling?\n",
        "\n",
        " = The \"os\" module in Python is used for interacting with the operating system, especially for file and directory operations. It allows actions like creating, deleting, renaming, and navigating files and folders.\n",
        "\n",
        "23. What are the challenges associated with memory management in Python?\n",
        "\n",
        " = Challenges in Python's memory management include handling circular references, which can delay garbage collection, and managing memory in long-running programs.\n",
        "\n",
        "24.  How do you raise an exception manually in Python?\n",
        "\n",
        " = if condition:\n",
        "    raise ExceptionType(\"Custom error message\")\n",
        "\n",
        "25. Why is it important to use multithreading in certain applications?\n",
        "\n",
        " = Multithreading is important in certain applications to run multiple tasks concurrently, improving responsiveness and performance."
      ],
      "metadata": {
        "id": "M7RETE23TVfV"
      }
    },
    {
      "cell_type": "markdown",
      "source": [
        "# ***`Practical Questions`***"
      ],
      "metadata": {
        "id": "KjF6flDtX-3F"
      }
    },
    {
      "cell_type": "code",
      "source": [
        "# How can you open a file for writing in Python and write a string to it?\n",
        "with open ('file_name','w')as file:\n",
        "  file.write(\"Hello, How are your?\")"
      ],
      "metadata": {
        "id": "4XnfgnBMYChQ"
      },
      "execution_count": null,
      "outputs": []
    },
    {
      "cell_type": "code",
      "source": [
        "#Write a Python program to read the contents of a file and print each line.\n",
        "with open('file_name', 'r') as file:\n",
        "    for line in file:\n",
        "        print(line, end='')\n"
      ],
      "metadata": {
        "colab": {
          "base_uri": "https://localhost:8080/"
        },
        "id": "uBGKC-QfYpxC",
        "outputId": "1f7edb1e-080c-470c-a68c-8a9b1234b3f6"
      },
      "execution_count": null,
      "outputs": [
        {
          "output_type": "stream",
          "name": "stdout",
          "text": [
            "Hello, How are your?"
          ]
        }
      ]
    },
    {
      "cell_type": "code",
      "source": [
        "# How would you handle a case where the file doesn't exist while trying to open it for reading.\n",
        "filename = 'file.txt'\n",
        "\n",
        "try:\n",
        "  with open('file.txt','r')as file:\n",
        "    for line in file:\n",
        "      print(line , end = \" \")\n",
        "except FileNotFoundError:\n",
        "  print(f\"error: the file {filename} doesn't exist \")"
      ],
      "metadata": {
        "colab": {
          "base_uri": "https://localhost:8080/"
        },
        "id": "KI54gUSjZCnM",
        "outputId": "12150b13-90c7-4cfd-df26-31eb8ad0ac2b"
      },
      "execution_count": null,
      "outputs": [
        {
          "output_type": "stream",
          "name": "stdout",
          "text": [
            "error: the file file.txt doesn't exist \n"
          ]
        }
      ]
    },
    {
      "cell_type": "code",
      "source": [
        "# How would you catch and handle division by zero error in Python.\n",
        "\n",
        "try:\n",
        "  numerator = 10\n",
        "  denominator = 0\n",
        "  result = numerator/denominator\n",
        "  print(\"result :\",result)\n",
        "except ZeroDivisionError:\n",
        "  print(\"division  by zero is not allowed\")"
      ],
      "metadata": {
        "colab": {
          "base_uri": "https://localhost:8080/"
        },
        "id": "QVqoDbmOaACP",
        "outputId": "cfcef168-6629-4aa4-be9a-3d1f13f5b525"
      },
      "execution_count": null,
      "outputs": [
        {
          "output_type": "stream",
          "name": "stdout",
          "text": [
            "division  by zero is not allowed\n"
          ]
        }
      ]
    },
    {
      "cell_type": "code",
      "source": [
        "# Write a Python script that reads from one file and writes its content to another file.\n",
        "Source_file = 'source.txt'\n",
        "Destination_file = 'destination.txt'\n",
        "\n",
        "try:\n",
        "  with open(Source_file,'r')as src:\n",
        "    content = src.read()\n",
        "  with open(Destination_file,'w')as dest:\n",
        "    dest.write(content)\n",
        "    print(f\"content copied from {Source_file} to {Destination_file} comleted\")\n",
        "\n",
        "except FileNotFoundError:\n",
        "  print(\"source file not found\")\n"
      ],
      "metadata": {
        "colab": {
          "base_uri": "https://localhost:8080/"
        },
        "id": "WFpnlNYua8Dc",
        "outputId": "d10a2f94-2477-422c-83fd-9bf5dc08aca9"
      },
      "execution_count": null,
      "outputs": [
        {
          "output_type": "stream",
          "name": "stdout",
          "text": [
            "source file not found\n"
          ]
        }
      ]
    },
    {
      "cell_type": "code",
      "source": [
        "# Write a Python program that logs an error message to a log file when a division by zero exception occurs.\n",
        "import logging\n",
        "\n",
        "logging.basicConfig(filename = 'error.log',level = logging.ERROR,formate = '%(asctime)s - %(levelname)s - %(message)s')\n",
        "\n",
        "try:\n",
        "  numerator = 10\n",
        "  denominator = 0\n",
        "  result = numerator/denominator\n",
        "  print(\"Result :\",result)\n",
        "\n",
        "except ZeroDivisionError as E:\n",
        "  logging.error(\"Diviion by zero error: \",E)\n",
        "  print(\"an error has occured, seems you are deviding a number by zero\")"
      ],
      "metadata": {
        "id": "-nZERIbkdI6G",
        "colab": {
          "base_uri": "https://localhost:8080/"
        },
        "outputId": "3ea2b5c2-e99b-4b11-f681-0bc15f9d30f0"
      },
      "execution_count": null,
      "outputs": [
        {
          "output_type": "stream",
          "name": "stdout",
          "text": [
            "an error has occured, seems you are deviding a number by zero\n"
          ]
        },
        {
          "output_type": "stream",
          "name": "stderr",
          "text": [
            "--- Logging error ---\n",
            "Traceback (most recent call last):\n",
            "  File \"/tmp/ipython-input-1247362464.py\", line 9, in <cell line: 0>\n",
            "    result = numerator/denominator\n",
            "             ~~~~~~~~~^~~~~~~~~~~~\n",
            "ZeroDivisionError: division by zero\n",
            "\n",
            "During handling of the above exception, another exception occurred:\n",
            "\n",
            "Traceback (most recent call last):\n",
            "  File \"/usr/lib/python3.11/logging/__init__.py\", line 1110, in emit\n",
            "    msg = self.format(record)\n",
            "          ^^^^^^^^^^^^^^^^^^^\n",
            "  File \"/usr/lib/python3.11/logging/__init__.py\", line 953, in format\n",
            "    return fmt.format(record)\n",
            "           ^^^^^^^^^^^^^^^^^^\n",
            "  File \"/usr/lib/python3.11/logging/__init__.py\", line 687, in format\n",
            "    record.message = record.getMessage()\n",
            "                     ^^^^^^^^^^^^^^^^^^^\n",
            "  File \"/usr/lib/python3.11/logging/__init__.py\", line 377, in getMessage\n",
            "    msg = msg % self.args\n",
            "          ~~~~^~~~~~~~~~~\n",
            "TypeError: not all arguments converted during string formatting\n",
            "Call stack:\n",
            "  File \"<frozen runpy>\", line 198, in _run_module_as_main\n",
            "  File \"<frozen runpy>\", line 88, in _run_code\n",
            "  File \"/usr/local/lib/python3.11/dist-packages/colab_kernel_launcher.py\", line 37, in <module>\n",
            "    ColabKernelApp.launch_instance()\n",
            "  File \"/usr/local/lib/python3.11/dist-packages/traitlets/config/application.py\", line 992, in launch_instance\n",
            "    app.start()\n",
            "  File \"/usr/local/lib/python3.11/dist-packages/ipykernel/kernelapp.py\", line 712, in start\n",
            "    self.io_loop.start()\n",
            "  File \"/usr/local/lib/python3.11/dist-packages/tornado/platform/asyncio.py\", line 205, in start\n",
            "    self.asyncio_loop.run_forever()\n",
            "  File \"/usr/lib/python3.11/asyncio/base_events.py\", line 608, in run_forever\n",
            "    self._run_once()\n",
            "  File \"/usr/lib/python3.11/asyncio/base_events.py\", line 1936, in _run_once\n",
            "    handle._run()\n",
            "  File \"/usr/lib/python3.11/asyncio/events.py\", line 84, in _run\n",
            "    self._context.run(self._callback, *self._args)\n",
            "  File \"/usr/local/lib/python3.11/dist-packages/ipykernel/kernelbase.py\", line 510, in dispatch_queue\n",
            "    await self.process_one()\n",
            "  File \"/usr/local/lib/python3.11/dist-packages/ipykernel/kernelbase.py\", line 499, in process_one\n",
            "    await dispatch(*args)\n",
            "  File \"/usr/local/lib/python3.11/dist-packages/ipykernel/kernelbase.py\", line 406, in dispatch_shell\n",
            "    await result\n",
            "  File \"/usr/local/lib/python3.11/dist-packages/ipykernel/kernelbase.py\", line 730, in execute_request\n",
            "    reply_content = await reply_content\n",
            "  File \"/usr/local/lib/python3.11/dist-packages/ipykernel/ipkernel.py\", line 383, in do_execute\n",
            "    res = shell.run_cell(\n",
            "  File \"/usr/local/lib/python3.11/dist-packages/ipykernel/zmqshell.py\", line 528, in run_cell\n",
            "    return super().run_cell(*args, **kwargs)\n",
            "  File \"/usr/local/lib/python3.11/dist-packages/IPython/core/interactiveshell.py\", line 2975, in run_cell\n",
            "    result = self._run_cell(\n",
            "  File \"/usr/local/lib/python3.11/dist-packages/IPython/core/interactiveshell.py\", line 3030, in _run_cell\n",
            "    return runner(coro)\n",
            "  File \"/usr/local/lib/python3.11/dist-packages/IPython/core/async_helpers.py\", line 78, in _pseudo_sync_runner\n",
            "    coro.send(None)\n",
            "  File \"/usr/local/lib/python3.11/dist-packages/IPython/core/interactiveshell.py\", line 3257, in run_cell_async\n",
            "    has_raised = await self.run_ast_nodes(code_ast.body, cell_name,\n",
            "  File \"/usr/local/lib/python3.11/dist-packages/IPython/core/interactiveshell.py\", line 3473, in run_ast_nodes\n",
            "    if (await self.run_code(code, result,  async_=asy)):\n",
            "  File \"/usr/local/lib/python3.11/dist-packages/IPython/core/interactiveshell.py\", line 3553, in run_code\n",
            "    exec(code_obj, self.user_global_ns, self.user_ns)\n",
            "  File \"/tmp/ipython-input-1247362464.py\", line 13, in <cell line: 0>\n",
            "    logging.error(\"Diviion by zero error: \",E)\n",
            "Message: 'Diviion by zero error: '\n",
            "Arguments: (ZeroDivisionError('division by zero'),)\n"
          ]
        }
      ]
    },
    {
      "cell_type": "code",
      "source": [
        "# How do you log information at different levels (INFO, ERROR, WARNING) in Python using the logging module?\n",
        "import logging\n",
        "\n",
        "logging.basicConfig(filename = 'game.log',level = logging.DEBUG , format= '%(asctime)s - %(levelname)s - %(message)s')\n",
        "\n",
        "logging.debug('lowest level of logging,to give detailed info')\n",
        "logging.info('use to convey that the code was running expected')\n",
        "logging.warning('indicate that something unexpected happened')\n",
        "logging.error('serious problem with some function')\n",
        "logging.critical('terminaton of program/code/software')"
      ],
      "metadata": {
        "colab": {
          "base_uri": "https://localhost:8080/"
        },
        "id": "DuCjOHMN3u-E",
        "outputId": "d2fe13fe-dfee-455b-8fcd-ea5ea4dd13b7"
      },
      "execution_count": null,
      "outputs": [
        {
          "output_type": "stream",
          "name": "stderr",
          "text": [
            "WARNING:root:indicate that something unexpected happened\n",
            "ERROR:root:serious problem with some function\n",
            "CRITICAL:root:terminaton of program/code/software\n"
          ]
        }
      ]
    },
    {
      "cell_type": "code",
      "source": [
        "# Write a program to handle a file opening error using exception handling.\n",
        "filename = 'no_file.txt'\n",
        "\n",
        "try:\n",
        "   with open(filename,'r') as file:\n",
        "    content = file.read()\n",
        "    print(content)\n",
        "except FileNotFoundError :\n",
        "  print(f'the file {filename} is not found')\n",
        "except Exception as e :                     #catches any other unexpected error\n",
        "  print(f\"an unexpexted error as occured {e}\")"
      ],
      "metadata": {
        "colab": {
          "base_uri": "https://localhost:8080/"
        },
        "id": "lVgFn6zc7Ctt",
        "outputId": "2b94e2e4-e3dd-45df-f826-c2e9a7d8a951"
      },
      "execution_count": null,
      "outputs": [
        {
          "output_type": "stream",
          "name": "stdout",
          "text": [
            "the file no_file.txt is not found\n"
          ]
        }
      ]
    },
    {
      "cell_type": "code",
      "source": [
        "# How can you read a file line by line and store its content in a list in Python?\n",
        "list = []\n",
        "with open(filename,'r') as file:\n",
        "  for lines in file:\n",
        "   lines.append(line)\n",
        "print(lines)\n",
        "\n",
        "'''filename = 'read_file.txt'\n",
        "\n",
        "with open(filename, 'r') as file:\n",
        "  lines = file.readlines()\n",
        "  print(lines)'''"
      ],
      "metadata": {
        "id": "MEwcX2kJ99M3"
      },
      "execution_count": null,
      "outputs": []
    },
    {
      "cell_type": "code",
      "source": [
        "# How can you append data to an existing file in Python?\n",
        "with open('existing_file.txt','a')as file:\n",
        "  file.write(\"this is the new info.\\n\")"
      ],
      "metadata": {
        "id": "ZMXPHzpL997J"
      },
      "execution_count": null,
      "outputs": []
    },
    {
      "cell_type": "code",
      "source": [
        "# Write a Python program that uses a try-except block to handle an error when attempting to access a dictionary key that doesn't exist.\n",
        "Book = {'name' : 'Harry Potter','author' : 'J K Rowling','Parts' : 'seven'}\n",
        "\n",
        "try:\n",
        "  print('year',Book['year'])\n",
        "except KeyError as e:\n",
        "  print(f\"this key '{e}' does not exist in the dictionary\")"
      ],
      "metadata": {
        "colab": {
          "base_uri": "https://localhost:8080/"
        },
        "id": "TP7G0g9J-zR5",
        "outputId": "c5f2feb9-c20e-4803-f50e-57241e229ba0"
      },
      "execution_count": null,
      "outputs": [
        {
          "output_type": "stream",
          "name": "stdout",
          "text": [
            "this key ''year'' does not exist in the dictionary\n"
          ]
        }
      ]
    },
    {
      "cell_type": "code",
      "source": [
        "# Write a program that demonstrates using multiple except blocks to handle different types of exceptions.\n",
        "try:\n",
        "  print(int(input(\"enter a numerator : \")))\n",
        "  print(int(input(\"enter a denominator : \")))\n",
        "  result = numerator/denominator\n",
        "  print(result)\n",
        "\n",
        "except ZeroDivisionError:\n",
        "  print(\"you can't devide a number by zero\")\n",
        "\n",
        "except ValueError:\n",
        "  print(\"invalid value\")\n",
        "\n",
        "except Exception as e:\n",
        "  print(f\"an unexpected error has occured {e}\")"
      ],
      "metadata": {
        "colab": {
          "base_uri": "https://localhost:8080/"
        },
        "id": "hi4MZXZxAhUV",
        "outputId": "34def32e-b30f-485e-cd38-6f42ffa320c9"
      },
      "execution_count": null,
      "outputs": [
        {
          "output_type": "stream",
          "name": "stdout",
          "text": [
            "enter a numerator : 10\n",
            "10\n",
            "enter a denominator : 0\n",
            "0\n",
            "you can't devide a number by zero\n"
          ]
        }
      ]
    },
    {
      "cell_type": "code",
      "source": [
        "# How would you check if a file exists before attempting to read it in Python?\n",
        "import os\n",
        "\n",
        "filename = \"raad_file.txt\"\n",
        "if os.path.exists(filename):\n",
        " with open(filename,'r')as file:\n",
        "  content = file.read()\n",
        "  print(content)\n",
        "\n",
        "else:\n",
        "  print(f\"the {filename} doen't exist in your system.\")"
      ],
      "metadata": {
        "colab": {
          "base_uri": "https://localhost:8080/"
        },
        "id": "epyiwuCDCBJR",
        "outputId": "9d52d363-5958-41ac-b5cf-d580c0edeeb0"
      },
      "execution_count": null,
      "outputs": [
        {
          "output_type": "stream",
          "name": "stdout",
          "text": [
            "the raad_file.txt doen't exist in your system.\n"
          ]
        }
      ]
    },
    {
      "cell_type": "code",
      "source": [
        "# Write a program that uses the logging module to log both informational and error messages.\n",
        "import logging\n",
        "logging.basicConfig( filename = 'example.txt',level = logging.DEBUG,format = '%(asctime)s - %(levelname)s - %(message)s')\n",
        "\n",
        "logging.info(\"program started\")\n",
        "\n",
        "try:\n",
        "  num1 = 10\n",
        "  num2 = 5\n",
        "  result = num1/num2\n",
        "  print(result)\n",
        "  logging.info(f\"Division is successful,result : {result}\")\n",
        "except ZeroDivisionError :\n",
        "  print(\"error occured during the division\")\n",
        "except Exception as e:\n",
        "  print(f\"an unexpected exception has occured,{e}\")\n",
        "\n",
        "logging.info(\"program finished.\")"
      ],
      "metadata": {
        "colab": {
          "base_uri": "https://localhost:8080/"
        },
        "id": "qSj9hFqWDSDh",
        "outputId": "4a70aefe-9592-4b64-832e-ff774406c805"
      },
      "execution_count": null,
      "outputs": [
        {
          "output_type": "stream",
          "name": "stdout",
          "text": [
            "2.0\n"
          ]
        }
      ]
    },
    {
      "cell_type": "code",
      "source": [
        "# Write a Python program that prints the content of a file and handles the case when the file is empty.\n",
        "filename = \"read_file.txt\"\n",
        "\n",
        "try:\n",
        "  with open(filename , 'r') as file:\n",
        "    content = file.read()\n",
        "    if content.strip() == \"\":\n",
        "     print(f\"the file {filename} is empty\")\n",
        "    else :\n",
        "      print(content)\n",
        "except Exception as e:\n",
        "  print(f\"an exception {e} has occured\")"
      ],
      "metadata": {
        "colab": {
          "base_uri": "https://localhost:8080/"
        },
        "id": "wvRASinfSYd9",
        "outputId": "6a720d5a-88ff-4618-b8a9-19ab7562cfd1"
      },
      "execution_count": null,
      "outputs": [
        {
          "output_type": "stream",
          "name": "stdout",
          "text": [
            "an exception [Errno 2] No such file or directory: 'read_file.txt' has occured\n"
          ]
        }
      ]
    },
    {
      "cell_type": "code",
      "source": [
        "# Demonstrate how to use memory profiling to check the memory usage of a small program.\n",
        "pip install memory-profiler\n",
        "from memory_profiler import profile\n",
        "\n",
        "@profile\n",
        "def create_large_list():\n",
        "    numbers = [i * 2 for i in range(1000000)]  # List comprehension\n",
        "    return numbers\n",
        "\n",
        "if __name__ == \"__main__\":\n",
        "    create_large_list()\n"
      ],
      "metadata": {
        "id": "Rk4DkTakUnEM"
      },
      "execution_count": 2,
      "outputs": []
    },
    {
      "cell_type": "code",
      "source": [
        "# Write a Python program to create and write a list of numbers to a file, one number per line.\n",
        "numbers = [1,2,3,4,5,6,7,8,9,10]\n",
        "\n",
        "filename = \"numbers.txt\"\n",
        "try:\n",
        " with open(filename , 'w') as file:\n",
        "  for num in numbers:\n",
        "    file.write(f\"{num}\")\n",
        "  print(f\"number successfully written in {filename}\")\n",
        "except Exception as e:\n",
        "  print(f\"an error occured {e}\")"
      ],
      "metadata": {
        "colab": {
          "base_uri": "https://localhost:8080/"
        },
        "id": "8uOaYsWhU2Lq",
        "outputId": "45eee481-be7b-40cd-c8ad-e26b1476c5e2"
      },
      "execution_count": null,
      "outputs": [
        {
          "output_type": "stream",
          "name": "stdout",
          "text": [
            "number successfully written in numbers.txt\n"
          ]
        }
      ]
    },
    {
      "cell_type": "code",
      "source": [
        "# How would you implement a basic logging setup that logs to a file with rotation after 1MB?\n",
        "import logging\n",
        "from logging.handlers import RotatingFileHandler\n",
        "\n",
        "log_file = 'example.log'                                               ## Set up a rotating file handler\n",
        "handler = RotatingFileHandler(log_file,maxBytes= 1*1024*1024,backupcount = 3)\n",
        "\n",
        "logging.basicConfig(level = logging.INFO,format='%(asctime)s - %(levelname)s - %(message)s',handlers = [handler])\n",
        "\n",
        "for i in range (10000):\n",
        "  print(f\"this is the log entry number {i}\")"
      ],
      "metadata": {
        "id": "rbhjmEGAYY38"
      },
      "execution_count": null,
      "outputs": []
    },
    {
      "cell_type": "code",
      "source": [
        "# Write a program that handles both IndexError and KeyError using a try-except block.\n",
        "my_list = [10,20,30]\n",
        "my_dic = {\"name\":\"vakiya\",\"age\":\"18\"}\n",
        "\n",
        "try:\n",
        "  print(\"print list item of the index 5 :\", {my_list[5]})\n",
        "  print(\"email : \",my_dic[\"email\"])\n",
        "except IndexError:\n",
        "  print(\"the index you want to print is not in list\")\n",
        "except KeyError:\n",
        "  print(\"the key is not there in my_dic\")"
      ],
      "metadata": {
        "id": "7TTiPWVKYZmP"
      },
      "execution_count": null,
      "outputs": []
    },
    {
      "cell_type": "code",
      "source": [
        "# How would you open a file and read its contents using a context manager in Python.\n",
        "filename = 'example.txt'\n",
        "with open(filename , 'r') as file:\n",
        "  content = file.read()\n",
        "  print(content)"
      ],
      "metadata": {
        "id": "0y8OVPSDad73"
      },
      "execution_count": null,
      "outputs": []
    },
    {
      "cell_type": "code",
      "source": [
        "#  Write a Python program that reads a file and prints the number of occurrences of a specific word.\n",
        "filename = \"Books\"\n",
        "target_word = \"language\"\n",
        "\n",
        "try:\n",
        " with open(filename , 'r') as file:\n",
        "  content = file.read()\n",
        "\n",
        "  word_count = content.split().count(target_word)\n",
        "  print(f\"the {target_word} occured {word_count} times in {filename}\")\n",
        "\n",
        "except FileNotFoundError:\n",
        "  print(\"file does not found\")"
      ],
      "metadata": {
        "colab": {
          "base_uri": "https://localhost:8080/"
        },
        "id": "5vsLw729aeqK",
        "outputId": "28ed344d-87d3-40d1-a02f-c680f9aa8d8c"
      },
      "execution_count": null,
      "outputs": [
        {
          "output_type": "stream",
          "name": "stdout",
          "text": [
            "file does not found\n"
          ]
        }
      ]
    },
    {
      "cell_type": "code",
      "source": [
        "# How can you check if a file is empty before attempting to read its contents.\n",
        "import os\n",
        "\n",
        "filename = \"file.txt\"\n",
        "\n",
        "if os.path.exists(filename):\n",
        "  if os.start(filename).size == 0:\n",
        "    print(f\"the file {filename} is empty\")\n",
        "  else :\n",
        "    with open(filename , 'r') as file:\n",
        "      content = file.read()\n",
        "      print(content)\n",
        "else:\n",
        "  print(f\"the file {filename} does not exist\")"
      ],
      "metadata": {
        "colab": {
          "base_uri": "https://localhost:8080/"
        },
        "id": "S5FAedisb8cL",
        "outputId": "aadcd07b-a2f4-46fa-9f9e-19dbcf6274be"
      },
      "execution_count": null,
      "outputs": [
        {
          "output_type": "stream",
          "name": "stdout",
          "text": [
            "the file file.txt does not exist\n"
          ]
        }
      ]
    },
    {
      "cell_type": "code",
      "source": [
        "# Write a Python program that writes to a log file when an error occurs during file handling.\n",
        "import logging\n",
        "\n",
        "logging.basicConfig(filename='file_errors.log',level=logging.ERROR,format='%(asctime)s - %(levelname)s - %(message)s')\n",
        "\n",
        "filename = 'non_existent_file.txt'\n",
        "\n",
        "try:\n",
        "    with open(filename, 'r') as file:\n",
        "        content = file.read()\n",
        "        print(\"File content:\\n\", content)\n",
        "\n",
        "except FileNotFoundError as e:\n",
        "    logging.error(f\"File not found: {filename} - {e}\")\n",
        "    print(\"Error: The file does not exist.\")\n",
        "\n",
        "except Exception as e:\n",
        "    logging.error(f\"An unexpected error occurred: {e}\")\n",
        "    print(\"An unexpected error occurred while handling the file.\")\n"
      ],
      "metadata": {
        "colab": {
          "base_uri": "https://localhost:8080/"
        },
        "id": "dQy20nPcc66r",
        "outputId": "bfa55332-ee71-4d84-fb08-a7d874b2dff0"
      },
      "execution_count": null,
      "outputs": [
        {
          "output_type": "stream",
          "name": "stderr",
          "text": [
            "ERROR:root:File not found: non_existent_file.txt - [Errno 2] No such file or directory: 'non_existent_file.txt'\n"
          ]
        },
        {
          "output_type": "stream",
          "name": "stdout",
          "text": [
            "Error: The file does not exist.\n"
          ]
        }
      ]
    }
  ]
}