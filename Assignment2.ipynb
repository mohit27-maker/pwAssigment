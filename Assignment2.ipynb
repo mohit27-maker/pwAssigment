{
  "nbformat": 4,
  "nbformat_minor": 0,
  "metadata": {
    "colab": {
      "provenance": [],
      "authorship_tag": "ABX9TyP4VnvzZTaYXoIhb1n1Uf9y",
      "include_colab_link": true
    },
    "kernelspec": {
      "name": "python3",
      "display_name": "Python 3"
    },
    "language_info": {
      "name": "python"
    }
  },
  "cells": [
    {
      "cell_type": "markdown",
      "metadata": {
        "id": "view-in-github",
        "colab_type": "text"
      },
      "source": [
        "<a href=\"https://colab.research.google.com/github/mohit27-maker/pwAssigment/blob/main/Assignment2.ipynb\" target=\"_parent\"><img src=\"https://colab.research.google.com/assets/colab-badge.svg\" alt=\"Open In Colab\"/></a>"
      ]
    },
    {
      "cell_type": "markdown",
      "source": [
        "1. What are data structures, and why are they important?\n",
        "\n",
        "= Data Structures are a way of organizing data so that it can be accessed more efficiently depending upon the situation. they are important in puthon because of their efficiency , organization and management , memory management. Python offers a variety of built-in data structures like lists, tuples, sets, and dictionaries, each suited for different use cases.\n",
        "\n",
        "2.  Explain the difference between mutable and immutable data types with example.\n",
        "\n",
        "= mutable data types can be modified after they are created, while immutable data types cannot be changed after the creation\n",
        "mutable data types : list , dictionary , set\n",
        "immutable data types : string , tuple\n",
        "list = [1,2,3]\n",
        "list.append(4)\n",
        "print(num)\n",
        "\n",
        "but for immutable we can't perform any operation\n",
        "tuple = (1,2,3)\n",
        "tuple.append(4)\n",
        "print(tuple)\n",
        "\n",
        "3. What are the main differences between lists and tuples in Python?\n",
        "\n",
        "= lists are mutable while tuples are immutable , in lists iteration is time consuming while in tuples its faster , lists are better for performing operations such as append,delete while in tuples are more suitable for accessing elements efficiently.\n",
        "\n",
        "4. Describe how dictionaries store data?\n",
        "\n",
        "= Dictionaries are used to store data values in key:value pairs. A dictionary is a collection which is ordered,changeable and do not allow duplicates.\n",
        "\n",
        "5. Why might you use a set instead of a list in Python?\n",
        "\n",
        "= The main difference is that lists are ordered, meaning the order of elements is preserved and they can be accessed by their index while sets are unordered meaning they do not maintain the order of elements and automatically ensure all elements are unique.\n",
        "\n",
        "6. What is a string in Python, and how is it different from a list?\n",
        "\n",
        "= Strings are immutable, meaning they cannot be changed once created, while lists are mutable and can be modified as needed.\n",
        "\n",
        "7. How do tuples ensure data integrity in Python?\n",
        "\n",
        "= Tuples ensure data integrity through their immutability. This characteristic means that once a tuple is created, its contents cannot be changed, added to, or removed.\n",
        "\n",
        "8. What is a hash table, and how does it relate to dictionaries in Python?\n",
        "\n",
        "= Hash tables are a type of data structure in which the address or the index value of the data element is generated from a hash function. That makes accessing the data faster as the index value behaves as a key for the data value. In other words Hash table stores key-value pairs but the key is generated through a hashing function.\n",
        "\n",
        "9. Can lists contain different data types in Python?\n",
        "\n",
        "= Yes, lists in Python can contain elements of different data types. This is a key feature of Python lists, making them highly versatile.\n",
        "\n",
        "10. Explain why strings are immutable in Python?\n",
        "\n",
        "= Strings in Python are \"immutable\" which means they can not be changed after they are created.The immutability of Python string is very useful as it helps in hashing, performance optimization, safety, ease of use.\n",
        "\n",
        "11. What advantages do dictionaries offer over lists for certain tasks?\n",
        "\n",
        "=  Lists are linear in nature whereas dictionaries stored the data in key-value pairs.Lists can duplicate values since each values have unique index.\tDictionaries cannot contain duplicate keys but can contain duplicate values since each value has unique key.\n",
        "\n",
        "12. Describe a scenario where using a tuple would be preferable over a list?\n",
        "\n",
        "= when we don't want our data to be changed and prefer it to be read-only(like our details in any government document), then you should choose the tuple data type over lists.\n",
        "\n",
        "13. How do sets handle duplicate values in Python?\n",
        "\n",
        "= When an attempt is made to add an element that already exists within a set, the set simply ignores the addition and remains unchanged. It does not store multiple instances of the same element.\n",
        "\n",
        "14. How does the “in” keyword work differently for lists and dictionaries?\n",
        "\n",
        "= The key of the dictionary is a unique value as well as the set, and the execution time is about the same as for sets. On the other hand, dictionary values can be duplicated like a list. The execution time of in for values() is about the same as for lists. Key-value pairs are unique.\n",
        "\n",
        "15. Can you modify the elements of a tuple? Explain why or why not.\n",
        "\n",
        "= No, you cannot directly modify the elements of a tuple.Tuples are immutable, meaning their contents cannot be changed after creation.\n",
        "\n",
        "16. What is a nested dictionary, and give an example of its use case?\n",
        "\n",
        "= A nested dictionary in Python is a dictionary where one or more of its values are themselves dictionaries, creating a hierarchical structure.\n",
        "family_children = {\n",
        "  \"child1\" : {\n",
        "    \"name\" : \"may\",\n",
        "    \"year\" : 2003\n",
        "  },\n",
        "  \"child2\" : {\n",
        "    \"name\" : \"sam\",\n",
        "    \"year\" : 2007\n",
        "  },\n",
        "  \"child3\" : {\n",
        "    \"name\" : \"emily\",\n",
        "    \"year\" : 2014\n",
        "  }\n",
        "}\n",
        "\n",
        "17. Describe the time complexity of accessing elements in a dictionary.\n",
        "\n",
        "= Accessing elements in a dictionary typically has a time complexity of O(1) on average. This means that the time it takes to retrieve a value by its key is, on average, constant and doesn't depend on the size of the dictionary.\n",
        "\n",
        "18. In what situations are lists preferred over dictionaries?\n",
        "\n",
        "= when the order of elements matters, when you need to store multiple values for a single index, or when you need to perform operations like sorting or indexing based on position.\n",
        "\n",
        "19. Why are dictionaries considered unordered, and how does that affect data    retrieval?\n",
        "\n",
        "= dictionaries do not maintain any inherent order of the items based on when they were added and because of this we can't access the elements by indexing.\n",
        "\n",
        "20. Explain the difference between a list and a dictionary in terms of data retrieval?\n",
        "\n",
        "= A list is an ordered collection of items, whereas a dictionary is an unordered data collection in a key: value pair. Elements from the list can be accessed using the index, while the elements of the dictionary can be accessed using keys."
      ],
      "metadata": {
        "id": "HTmFmAJ04DR-"
      }
    },
    {
      "cell_type": "markdown",
      "source": [
        "# ***PRACTICAL QUESTIONS***"
      ],
      "metadata": {
        "id": "mj8pP9GtUn-d"
      }
    },
    {
      "cell_type": "code",
      "source": [
        "#Write a code to create a string with your name and print it\n",
        "name = \"mohit sengar\"\n",
        "print(type(name))\n"
      ],
      "metadata": {
        "colab": {
          "base_uri": "https://localhost:8080/"
        },
        "id": "Hcp6sIikUwzt",
        "outputId": "8b411223-24e1-4639-9068-3702d69b31ca"
      },
      "execution_count": null,
      "outputs": [
        {
          "output_type": "stream",
          "name": "stdout",
          "text": [
            "<class 'str'>\n"
          ]
        }
      ]
    },
    {
      "cell_type": "code",
      "source": [
        "#Write a code to find the length of the string \"Hello World\"\n",
        "a = (\"Hello World\")\n",
        "len(a)"
      ],
      "metadata": {
        "colab": {
          "base_uri": "https://localhost:8080/"
        },
        "id": "saPvzakfVFST",
        "outputId": "70cf14fb-eb77-4e0d-dbef-1d12f139a714"
      },
      "execution_count": null,
      "outputs": [
        {
          "output_type": "execute_result",
          "data": {
            "text/plain": [
              "11"
            ]
          },
          "metadata": {},
          "execution_count": 7
        }
      ]
    },
    {
      "cell_type": "code",
      "source": [
        "#Write a code to slice the first 3 characters from the string \"Python Programming\"\n",
        "b = (\"Python Programming\")\n",
        "print(b[0:3])"
      ],
      "metadata": {
        "colab": {
          "base_uri": "https://localhost:8080/"
        },
        "id": "po6_g_hFVwu0",
        "outputId": "11e2626c-7de1-4be9-f1b7-11799811f4ec"
      },
      "execution_count": null,
      "outputs": [
        {
          "output_type": "stream",
          "name": "stdout",
          "text": [
            "Pyt\n"
          ]
        }
      ]
    },
    {
      "cell_type": "code",
      "source": [
        "#Write a code to convert the string \"hello\" to uppercase.\n",
        "A =(\"hello\")\n",
        "print(A.upper())"
      ],
      "metadata": {
        "colab": {
          "base_uri": "https://localhost:8080/"
        },
        "id": "46XJ-DbxWSh0",
        "outputId": "b198d711-1886-4e12-90fa-1932e002d311"
      },
      "execution_count": null,
      "outputs": [
        {
          "output_type": "stream",
          "name": "stdout",
          "text": [
            "HELLO\n"
          ]
        }
      ]
    },
    {
      "cell_type": "code",
      "source": [
        "#Write a code to replace the word \"apple\" with \"orange\" in the string \"I like apple\".\n",
        "line = (\"i like apple\")\n",
        "updated_line = line.replace(\"apple\",\"orange\")\n",
        "print(updated_line)"
      ],
      "metadata": {
        "colab": {
          "base_uri": "https://localhost:8080/"
        },
        "id": "g551IkggW6Z0",
        "outputId": "fe5e1157-b367-4756-837d-5951edc16684"
      },
      "execution_count": null,
      "outputs": [
        {
          "output_type": "stream",
          "name": "stdout",
          "text": [
            "i like orange\n"
          ]
        }
      ]
    },
    {
      "cell_type": "code",
      "source": [
        "#Write a code to create a list with numbers 1 to 5 and print it.\n",
        "list = [1,2,3,4,5]\n",
        "print(list)"
      ],
      "metadata": {
        "colab": {
          "base_uri": "https://localhost:8080/"
        },
        "id": "FPSHLyw8YC7k",
        "outputId": "4c11e259-a76a-4d82-8d63-685bc55bf826"
      },
      "execution_count": null,
      "outputs": [
        {
          "output_type": "stream",
          "name": "stdout",
          "text": [
            "[1, 2, 3, 4, 5]\n"
          ]
        }
      ]
    },
    {
      "cell_type": "code",
      "source": [
        "#Write a code to append the number 10 to the list [1, 2, 3, 4].\n",
        "list = [1,2,3,4]\n",
        "list.append(10)\n",
        "print(list)"
      ],
      "metadata": {
        "colab": {
          "base_uri": "https://localhost:8080/"
        },
        "id": "BWhsnmvdYTjx",
        "outputId": "2a64140e-d5d6-4a1a-8ebd-8b7cb2571d43"
      },
      "execution_count": null,
      "outputs": [
        {
          "output_type": "stream",
          "name": "stdout",
          "text": [
            "[1, 2, 3, 4, 10]\n"
          ]
        }
      ]
    },
    {
      "cell_type": "code",
      "source": [
        "#Write a code to remove the number 3 from the list [1, 2, 3, 4, 5].\n",
        "list = [1,2,3,4,5]\n",
        "list.remove(3)\n",
        "print(list)"
      ],
      "metadata": {
        "colab": {
          "base_uri": "https://localhost:8080/"
        },
        "id": "AZ1OPvMVYfUk",
        "outputId": "63d050be-5fd6-4b59-dafb-76a5909e641c"
      },
      "execution_count": null,
      "outputs": [
        {
          "output_type": "stream",
          "name": "stdout",
          "text": [
            "[1, 2, 4, 5]\n"
          ]
        }
      ]
    },
    {
      "cell_type": "code",
      "source": [
        "#Write a code to access the second element in the list ['a', 'b', 'c', 'd'].\n",
        "list = ['a', 'b', 'c', 'd']\n",
        "print(list[1])"
      ],
      "metadata": {
        "colab": {
          "base_uri": "https://localhost:8080/"
        },
        "id": "mJ3nqjh3YusZ",
        "outputId": "a6ce47c1-37b4-444f-b37f-0926b1b40bd6"
      },
      "execution_count": null,
      "outputs": [
        {
          "output_type": "stream",
          "name": "stdout",
          "text": [
            "b\n"
          ]
        }
      ]
    },
    {
      "cell_type": "code",
      "source": [
        "#Write a code to reverse the list [10, 20, 30, 40, 50].\n",
        "num = [10, 20, 30, 40, 50]\n",
        "num.reverse()\n",
        "print(num)"
      ],
      "metadata": {
        "colab": {
          "base_uri": "https://localhost:8080/"
        },
        "id": "ENHoBje5Y96D",
        "outputId": "6709810a-2082-435b-af49-84e075b91d8e"
      },
      "execution_count": null,
      "outputs": [
        {
          "output_type": "stream",
          "name": "stdout",
          "text": [
            "[50, 40, 30, 20, 10]\n"
          ]
        }
      ]
    },
    {
      "cell_type": "code",
      "source": [
        "#Write a code to create a tuple with the elements 100, 200, 300 and print it.\n",
        "tuple = (100,200,300)\n",
        "print(tuple)"
      ],
      "metadata": {
        "colab": {
          "base_uri": "https://localhost:8080/"
        },
        "id": "lKimJfDFaMJe",
        "outputId": "2fda94ed-bc02-4efa-b18d-6ef70a56cb91"
      },
      "execution_count": null,
      "outputs": [
        {
          "output_type": "stream",
          "name": "stdout",
          "text": [
            "(100, 200, 300)\n"
          ]
        }
      ]
    },
    {
      "cell_type": "code",
      "source": [
        "#Write a code to access the second-to-last element of the tuple ('red', 'green', 'blue', 'yellow').\n",
        "colors = ('red','green','yellow','blue')\n",
        "print(colors[1:])"
      ],
      "metadata": {
        "colab": {
          "base_uri": "https://localhost:8080/"
        },
        "id": "mcfh4mV-aZiM",
        "outputId": "eee092cb-5c12-4806-88d6-605fc0750f07"
      },
      "execution_count": null,
      "outputs": [
        {
          "output_type": "stream",
          "name": "stdout",
          "text": [
            "('green', 'yellow', 'blue')\n"
          ]
        }
      ]
    },
    {
      "cell_type": "code",
      "source": [
        "# Write a code to find the minimum number in the tuple (10, 20, 5, 15).\n",
        "num = (10,20,5,15)\n",
        "print(min(num))"
      ],
      "metadata": {
        "colab": {
          "base_uri": "https://localhost:8080/"
        },
        "id": "iw3qclHTatuw",
        "outputId": "87a0999f-2cf5-4a12-9938-f45bb7f2f560"
      },
      "execution_count": null,
      "outputs": [
        {
          "output_type": "stream",
          "name": "stdout",
          "text": [
            "5\n"
          ]
        }
      ]
    },
    {
      "cell_type": "code",
      "source": [
        "#Write a code to find the index of the element \"cat\" in the tuple ('dog', 'cat', 'rabbit').\n",
        "animals = ('dog','cat','rabbit')\n",
        "print(animals.index('cat'))"
      ],
      "metadata": {
        "colab": {
          "base_uri": "https://localhost:8080/"
        },
        "id": "SgOhG5NlbYw-",
        "outputId": "3c3d0235-91c5-4bea-99db-d2b42d036b15"
      },
      "execution_count": null,
      "outputs": [
        {
          "output_type": "stream",
          "name": "stdout",
          "text": [
            "1\n"
          ]
        }
      ]
    },
    {
      "cell_type": "code",
      "source": [
        " #Write a code to create a tuple containing three different fruits and check if \"kiwi\" is in it.\n",
        "fruits = (\"apple\",\"watermelon\",\"kiwi\")\n",
        "if \"kiwi\" in fruits:\n",
        "   print(\"yes\")\n",
        "else:\n",
        "    print(\"no\")"
      ],
      "metadata": {
        "id": "geIgGCrhb6ir",
        "colab": {
          "base_uri": "https://localhost:8080/"
        },
        "outputId": "5b48f249-4c92-4ba3-f750-5970947fb89b"
      },
      "execution_count": 3,
      "outputs": [
        {
          "output_type": "stream",
          "name": "stdout",
          "text": [
            "yes\n"
          ]
        }
      ]
    },
    {
      "cell_type": "code",
      "source": [
        "#Write a code to create a set with the elements 'a', 'b', 'c' and print it.\n",
        "a = {'a','b','c'}\n",
        "print(a)\n",
        "\n"
      ],
      "metadata": {
        "colab": {
          "base_uri": "https://localhost:8080/"
        },
        "id": "BfIZHEz9B_2i",
        "outputId": "50281208-829c-41d5-e909-8d114864661c"
      },
      "execution_count": 4,
      "outputs": [
        {
          "output_type": "stream",
          "name": "stdout",
          "text": [
            "<class 'set'>\n"
          ]
        }
      ]
    },
    {
      "cell_type": "code",
      "source": [
        "#Write a code to clear all elements from the set {1, 2, 3, 4, 5}.\n",
        "a = {1,2,3,4,5}\n",
        "a.clear()\n",
        "print(a)"
      ],
      "metadata": {
        "colab": {
          "base_uri": "https://localhost:8080/"
        },
        "id": "3oXA8mBcCZ6M",
        "outputId": "a6a636f0-b040-403a-e81a-1c9d42d7bb3f"
      },
      "execution_count": 6,
      "outputs": [
        {
          "output_type": "stream",
          "name": "stdout",
          "text": [
            "set()\n"
          ]
        }
      ]
    },
    {
      "cell_type": "code",
      "source": [
        "#. Write a code to remove the element 4 from the set {1, 2, 3, 4}.\n",
        "a = {1,2,3,4}\n",
        "a.remove(4)\n",
        "print(a)"
      ],
      "metadata": {
        "colab": {
          "base_uri": "https://localhost:8080/"
        },
        "id": "ghIa4fVvC4qT",
        "outputId": "7c2b7ccb-3ce6-4a06-c9a7-f3f84bf385d4"
      },
      "execution_count": 7,
      "outputs": [
        {
          "output_type": "stream",
          "name": "stdout",
          "text": [
            "{1, 2, 3}\n"
          ]
        }
      ]
    },
    {
      "cell_type": "code",
      "source": [
        "# Write a code to find the union of two sets {1, 2, 3} and {3, 4, 5}.\n",
        "a = {1,2,3}\n",
        "b = {3,4,5}\n",
        "c = a.union(b)\n",
        "print(c)"
      ],
      "metadata": {
        "colab": {
          "base_uri": "https://localhost:8080/"
        },
        "id": "2aWUD6bIDE-8",
        "outputId": "a450a4c1-81f1-4dfc-a0e0-9bf583b093dd"
      },
      "execution_count": 8,
      "outputs": [
        {
          "output_type": "stream",
          "name": "stdout",
          "text": [
            "{1, 2, 3, 4, 5}\n"
          ]
        }
      ]
    },
    {
      "cell_type": "code",
      "source": [
        "# Write a code to find the intersection of two sets {1, 2, 3} and {2, 3, 4}.\n",
        "a = {1,2,3}\n",
        "b = {2,3,4}\n",
        "c = a.intersection(b)\n",
        "print(c)"
      ],
      "metadata": {
        "colab": {
          "base_uri": "https://localhost:8080/"
        },
        "id": "T53_WWJvDlUw",
        "outputId": "8a6db783-5f71-4841-ec23-35263bb52a70"
      },
      "execution_count": 10,
      "outputs": [
        {
          "output_type": "stream",
          "name": "stdout",
          "text": [
            "{2, 3}\n"
          ]
        }
      ]
    },
    {
      "cell_type": "code",
      "source": [
        "# Write a code to create a dictionary with the keys \"name\", \"age\", and \"city\", and print it.\n",
        "employee = {\"name\":\"aman\",\"age\":\"22\",\"city\":\"pune\"}\n",
        "print(employee)"
      ],
      "metadata": {
        "colab": {
          "base_uri": "https://localhost:8080/"
        },
        "id": "7EyRPD53EHZY",
        "outputId": "9b22bd43-2a48-4035-a0fb-443fd044e3f9"
      },
      "execution_count": 11,
      "outputs": [
        {
          "output_type": "stream",
          "name": "stdout",
          "text": [
            "{'name': 'aman', 'age': '22', 'city': 'pune'}\n"
          ]
        }
      ]
    },
    {
      "cell_type": "code",
      "source": [
        "# Write a code to add a new key-value pair \"country\": \"USA\" to the dictionary {'name': 'John', 'age': 25}.\n",
        "worker = {\"name\":\"john\",\"age\":25}\n",
        "worker.update({\"contry\":\"USA\"}) #worker[\"country\"] = \"USA\"\n",
        "print(worker)"
      ],
      "metadata": {
        "colab": {
          "base_uri": "https://localhost:8080/"
        },
        "id": "JBFIegejEpbk",
        "outputId": "da1c71c6-27b1-48a2-c2ff-6f96f3e78070"
      },
      "execution_count": 12,
      "outputs": [
        {
          "output_type": "stream",
          "name": "stdout",
          "text": [
            "{'name': 'john', 'age': 25, 'contry': 'USA'}\n"
          ]
        }
      ]
    },
    {
      "cell_type": "code",
      "source": [
        "# Write a code to access the value associated with the key \"name\" in the dictionary {'name': 'Alice', 'age': 30}.\n",
        "a = {\"name\":\"Alice\",\"age\":30}\n",
        "print(a[\"name\"])"
      ],
      "metadata": {
        "colab": {
          "base_uri": "https://localhost:8080/"
        },
        "id": "9wx-SmCvFW1E",
        "outputId": "ceda84a8-c29f-4b2b-b5a4-af0a24736b9e"
      },
      "execution_count": 15,
      "outputs": [
        {
          "output_type": "stream",
          "name": "stdout",
          "text": [
            "Alice\n"
          ]
        }
      ]
    },
    {
      "cell_type": "code",
      "source": [
        "# Write a code to remove the key \"age\" from the dictionary {'name': 'Bob', 'age': 22, 'city': 'New York'}.\n",
        "a = {'name': 'Bob', 'age': 22, 'city': 'New York'}\n",
        "a.pop('age')\n",
        "print(a)"
      ],
      "metadata": {
        "colab": {
          "base_uri": "https://localhost:8080/"
        },
        "id": "Q6hJwOUjFyVl",
        "outputId": "3bc5917d-8cd6-4719-f4b5-65f3808b08e1"
      },
      "execution_count": 18,
      "outputs": [
        {
          "output_type": "stream",
          "name": "stdout",
          "text": [
            "{'name': 'Bob', 'city': 'New York'}\n"
          ]
        }
      ]
    },
    {
      "cell_type": "code",
      "source": [
        "# Write a code to check if the key \"city\" exists in the dictionary {'name': 'Alice', 'city': 'Paris'}.\n",
        "a = {'name': 'Alice', 'city': 'Paris'}\n",
        "if 'city' in a:\n",
        "  print(\"yes\")\n",
        "else:\n",
        "    print(\"no\")"
      ],
      "metadata": {
        "colab": {
          "base_uri": "https://localhost:8080/"
        },
        "id": "PNTDNWC1Gpa0",
        "outputId": "8c6ae804-8164-4a02-92e4-a2e2d4ac29a5"
      },
      "execution_count": 20,
      "outputs": [
        {
          "output_type": "stream",
          "name": "stdout",
          "text": [
            "yes\n"
          ]
        }
      ]
    },
    {
      "cell_type": "code",
      "source": [
        "# Write a code to create a list, a tuple, and a dictionary, and print them all.\n",
        "list = [1,2,3,4,5]\n",
        "tuple = (1,2,3,4,5)\n",
        "dic = {'a':1,'b':2,'c':3,'d':4}\n",
        "print(list,tuple,dic)"
      ],
      "metadata": {
        "colab": {
          "base_uri": "https://localhost:8080/"
        },
        "id": "HQXszhkmHSIC",
        "outputId": "af6abd85-8ff0-4da9-8b9e-dd399a4724f0"
      },
      "execution_count": 21,
      "outputs": [
        {
          "output_type": "stream",
          "name": "stdout",
          "text": [
            "[1, 2, 3, 4, 5] (1, 2, 3, 4, 5) {'a': 1, 'b': 2, 'c': 3, 'd': 4}\n"
          ]
        }
      ]
    },
    {
      "cell_type": "code",
      "source": [
        "# Write a code to create a list of 5 random numbers between 1 and 100, sort it in ascending order, and print the result.(replaced)\n",
        "import random\n",
        "\n",
        "number = [random.randint(1,100)for i in range(5)]\n",
        "number.sort()\n",
        "print(number)"
      ],
      "metadata": {
        "colab": {
          "base_uri": "https://localhost:8080/"
        },
        "id": "DjzCrtfzH0_c",
        "outputId": "5f7136a4-eb99-4b6a-d419-f8aa19f7d972"
      },
      "execution_count": 27,
      "outputs": [
        {
          "output_type": "stream",
          "name": "stdout",
          "text": [
            "[33, 39, 60, 77, 79]\n"
          ]
        }
      ]
    },
    {
      "cell_type": "code",
      "source": [
        "# Write a code to create a list with strings and print the element at the third index.\n",
        "A = ['hello','how','are','you']\n",
        "print(A[3])"
      ],
      "metadata": {
        "colab": {
          "base_uri": "https://localhost:8080/"
        },
        "id": "ULokBHdOK47T",
        "outputId": "b2e27e60-be71-45cc-9ffd-1cc07ad71641"
      },
      "execution_count": 30,
      "outputs": [
        {
          "output_type": "stream",
          "name": "stdout",
          "text": [
            "you\n"
          ]
        }
      ]
    },
    {
      "cell_type": "code",
      "source": [
        "# Write a code to combine two dictionaries into one and print the result.\n",
        "dict1 = {'a': 1, 'b': 2}\n",
        "dict2 = {'c': 3, 'd': 4}\n",
        "\n",
        "dict3 = dict1.copy()\n",
        "dict3.update(dict2)\n",
        "print(dict3)"
      ],
      "metadata": {
        "colab": {
          "base_uri": "https://localhost:8080/"
        },
        "id": "bWygJ2AwLVLc",
        "outputId": "0dc5ae7c-ba28-47b0-8a60-590b5fd6ca62"
      },
      "execution_count": 31,
      "outputs": [
        {
          "output_type": "stream",
          "name": "stdout",
          "text": [
            "{'a': 1, 'b': 2, 'c': 3, 'd': 4}\n"
          ]
        }
      ]
    },
    {
      "cell_type": "code",
      "source": [
        "# Write a code to convert a list of strings into a set.\n",
        "string_list = ['apple', 'banana', 'cherry', 'apple']\n",
        "string_set = set(string_list)\n",
        "print(string_set)"
      ],
      "metadata": {
        "colab": {
          "base_uri": "https://localhost:8080/"
        },
        "id": "6f-eU9i7MsSW",
        "outputId": "c0cf7a75-3454-42a3-b63a-76ab22ae8608"
      },
      "execution_count": 32,
      "outputs": [
        {
          "output_type": "stream",
          "name": "stdout",
          "text": [
            "{'apple', 'cherry', 'banana'}\n"
          ]
        }
      ]
    }
  ]
}