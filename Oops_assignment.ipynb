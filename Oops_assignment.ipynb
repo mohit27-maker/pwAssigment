{
  "nbformat": 4,
  "nbformat_minor": 0,
  "metadata": {
    "colab": {
      "provenance": [],
      "authorship_tag": "ABX9TyP2SGXwrq5FdCgyMqpQNqJP",
      "include_colab_link": true
    },
    "kernelspec": {
      "name": "python3",
      "display_name": "Python 3"
    },
    "language_info": {
      "name": "python"
    }
  },
  "cells": [
    {
      "cell_type": "markdown",
      "metadata": {
        "id": "view-in-github",
        "colab_type": "text"
      },
      "source": [
        "<a href=\"https://colab.research.google.com/github/mohit27-maker/pwAssigment/blob/main/Oops_assignment.ipynb\" target=\"_parent\"><img src=\"https://colab.research.google.com/assets/colab-badge.svg\" alt=\"Open In Colab\"/></a>"
      ]
    },
    {
      "cell_type": "markdown",
      "source": [
        "# **Python OOPs Questions**"
      ],
      "metadata": {
        "id": "_pT8FkNza0nF"
      }
    },
    {
      "cell_type": "markdown",
      "source": [
        "1. What is Object-Oriented Programming (OOP)?\n",
        "\n",
        " = Object Oriented Programming (OOP) is a programming method that organizes code by grouping related data and behavior into objects. It is based on the concept of \"objects\", which are instances of classes blueprints that define the structure and behavior of data.\n",
        "\n",
        "2. What is a class in OOP?\n",
        "\n",
        " = A class in OOP is a blueprint or template for creating objects. It defines the structure and methods that the objects created from it will have.\n",
        "\n",
        "3. What is an object in OOP?\n",
        "\n",
        " = An object is an instance of a class. When you create an object from a class, it gets its own copy of the attributes and can use the methods defined in the class.\n",
        "\n",
        "4.  What is the difference between abstraction and encapsulation?\n",
        "\n",
        " = abstraction-hiding the complex implementation and showing only the essential features,use for reduce the complexity and make the code easy to run.\n",
        "  encapsulation-hiding the internal data and protecting it from direct access,use to protect the data andmaintain integrity.\n",
        "\n",
        "5. What are dunder methods in Python?\n",
        "\n",
        " = Dunder method are special methods in Python that begin and end with two underscores: like __init__, __str__, __len__, etc. these allow us to define how your objects behave with built-in functions and operators (like +, len(), print(), etc.).\n",
        "\n",
        "6. Explain the concept of inheritance in OOP.\n",
        "\n",
        "  = Inheritance is an OOP concept where a class (child) can inherit properties (attributes) and behaviors (methods) from another class (parent).\n",
        "   Inheritance helps us in Reusability of code,Reducing redundancy,Maintaining a clear hierarchy\n",
        "\n",
        "7. What is polymorphism in OOP?\n",
        "\n",
        " = Polymorphism means \"many forms.\" In OOP, it allows objects of different classes to be treated as if they are objects of the same superclass, while behaving differently based on their actual class.\n",
        "\n",
        "8. How is encapsulation achieved in Python?\n",
        "\n",
        " = Encapsulation in Python is achieved by restricting direct access to\n",
        " some of an object's attributes or methods.\n",
        " This is done by using access modifiers: public(.), protected(._), and private(.__).\n",
        "\n",
        "9. What is a constructor in Python?\n",
        "\n",
        " = In Python, a constructor is a special method used to initialize a newly created object.It is automatically called when an object is created from a class.\n",
        "\n",
        "10.  What are class and static methods in Python?\n",
        "\n",
        " = class methods and static methods are special types of methods that      belong to a class but behave differently from regular instance methods.\n",
        " > calss methods-it belongs to the class,not to the instance.use the  @calssmethod decorator.\n",
        "\n",
        " > static method-use the @static method decorator. do not take the self or cls as the first parameter\n",
        "\n",
        "11. What is method overloading in Python?\n",
        "\n",
        " = Method Overloading means defining multiple methods with the same name but different parameters within the same class.\n",
        "\n",
        "12. What is method overriding in OOP?\n",
        "\n",
        " = Method Overriding is an object-oriented programming feature that allows a child class to provide a specific implementation of a method that is already defined in its parent class.\n",
        "\n",
        "13. What is a property decorator in Python?\n",
        "\n",
        " = The @property decorator in Python is used to convert a method into a read-only property 'allowing you to access it like an attribute', without calling it like a function.\n",
        "\n",
        "14. Why is polymorphism important in OOP?\n",
        "\n",
        " = Polymorphism is a core concept in Object-Oriented Programming because it enables flexibility, reusability, and scalability in code. It allows objects of different classes to be treated through a common interface, while allowing them to behave differently based on their class-specific implementation.\n",
        "\n",
        "15. What is an abstract class in Python?\n",
        "\n",
        " = An abstract class in Python is a class that cannot be instantiated directly. It is designed to be a base class that defines a common interface for its subclasses.\n",
        "\n",
        "16. What are the advantages of OOP?\n",
        "\n",
        " =Object-Oriented Programming offers a structured and modular approach to programming that makes code easier to write, understand, modify, and reuse.some benefits: Modularity,Reusability,Encapsulation,Polymorphism etc.\n",
        "\n",
        "17.  What is the difference between a class variable and an instance variable?\n",
        "\n",
        " >calss variable - a class variable is a variable defined within a class but outside of any instance methods (like __init__). It is shared by all instances of that class. This means that if the value of a class variable is modified, the change will be reflected across all objects created from that class.\n",
        "\n",
        " >instance variable - An instance variable in Python is a variable that belongs to a specific instance (object) of a class. Each object created from a class will have its own independent copy of these variables, and the value of an instance variable can be different for each instance.\n",
        "\n",
        "18. What is multiple inheritance in Python?\n",
        "\n",
        " = Multiple Inheritance is a feature in Python where a child class can inherit from more than one parent class.This allows the child class to have the properties and methods of all parent classes.\n",
        "\n",
        "19. Explain the purpose of ‘’__str__’ and ‘__repr__’ ‘ methods in Python.\n",
        "\n",
        " = Both __str__ and __repr__ are dunder methods used to define string representations of objects.\n",
        " >_str_ - Called by str(obj) and the print(obj) function.Meant to return a nicely formatted, readable description of the object,Used when displaying the object to end users.\n",
        "\n",
        " >_repr_ - Called by repr(obj) and in the Python shell.Should return a developer-friendly, unambiguous string,Used for debugging and logging.\n",
        "\n",
        "20. What is the significance of the ‘super()’ function in Python?\n",
        "\n",
        " = The super() function is used to call methods from a parent (super) class in a child class.It allows you to extend or override parent class behavior without directly naming the parent class.\n",
        "\n",
        "21. What is the significance of the __del__ method in Python?\n",
        "\n",
        " = The __del__() method in Python is a destructor. It is a special method called automatically when an object is about to be destroyed (i.e., when it is garbage collected).\n",
        "\n",
        "22. What is the difference between @staticmethod and @classmethod in Python?\n",
        "\n",
        " = Both @staticmethod and @classmethod are decorators used to define methods that do not behave like regular instance methods.\n",
        " >@staticmethod - Does not take self or cls as the first argument.It doesn't access class or instance variables.It behaves like a regular function but lives inside the class’s namespace for logical grouping.\n",
        "\n",
        " >@classmethod - Takes cls as the first argument (not self).It can access or modify class variables,Used to define factory methods or operate on the class state.\n",
        "\n",
        "23. How does polymorphism work in Python with inheritance?\n",
        "\n",
        " = Polymorphism in Python allows objects of different classes to be treated as if they are of the same base class, especially when they share methods with the same name.\n",
        "\n",
        "24. What is method chaining in Python OOP?\n",
        "\n",
        " = Method chaining is a programming technique where multiple method calls are chained together in a single line using the dot (.) operator.Each method returns the object itself (usually self), allowing the next method to be called on the same object.\n",
        "\n",
        "25. What is the purpose of the __call__ method in Python?\n",
        "\n",
        " = The __call__() method makes an instance of a class callable like a regular function.BY defining the __call__() method inside a class, we can use an object of that class like a function.\n"
      ],
      "metadata": {
        "id": "4AMiyDinaNU1"
      }
    },
    {
      "cell_type": "markdown",
      "source": [
        "# ***Practical Questions***"
      ],
      "metadata": {
        "id": "_EgF3oB_DVgq"
      }
    },
    {
      "cell_type": "code",
      "source": [
        "#1.Create a parent class Animal with a method speak() that prints a generic message. Create a child class Dog\n",
        "# that overrides the speak() method to print \"Bark!\".\n",
        "\n",
        "class animal:\n",
        "  def speak(self):\n",
        "    print(\"animal makes a sound\")\n",
        "\n",
        "class dog(animal):\n",
        "  def speak(self):\n",
        "    print(\"bark!\")\n",
        "\n",
        "a = animal()\n",
        "a.speak()\n",
        "\n",
        "b = dog()\n",
        "b.speak()"
      ],
      "metadata": {
        "id": "AD01080zFjsL",
        "colab": {
          "base_uri": "https://localhost:8080/"
        },
        "outputId": "696a70ff-2eff-40c9-e487-431fd4622e80"
      },
      "execution_count": null,
      "outputs": [
        {
          "output_type": "stream",
          "name": "stdout",
          "text": [
            "animal makes a sound\n",
            "bark!\n"
          ]
        }
      ]
    },
    {
      "cell_type": "code",
      "source": [
        "# Write a program to create an abstract class Shape with a method area(). Derive classes Circle and Rectangle\n",
        "# from it and implement the area() method in both.\n",
        "\n",
        "from abc import ABC,abstractmethod\n",
        "import math\n",
        "\n",
        "class shape(ABC):\n",
        "  def area(self):\n",
        "    pass\n",
        "\n",
        "class Circle(shape):\n",
        "  def __init__(self,radius):\n",
        "    self.radius = radius\n",
        "\n",
        "  def area(self):\n",
        "    return math.pi*self.radius**2\n",
        "\n",
        "class Rectangle(shape):\n",
        "  def __init__(self,width,height):\n",
        "    self.width = width\n",
        "    self.height = height\n",
        "\n",
        "  def area(self):\n",
        "    return self.width*self.height\n",
        "\n",
        "circle = Circle(5)\n",
        "rectangle = Rectangle(5,6)\n",
        "\n",
        "print(f\"area of circle : {circle.area():}\")\n",
        "print(f\"area of rectangle: {rectangle.area()}\")"
      ],
      "metadata": {
        "colab": {
          "base_uri": "https://localhost:8080/"
        },
        "id": "7zkJ_zOfDbp_",
        "outputId": "a3c28d32-7d59-4cce-fc05-eb0041744e83"
      },
      "execution_count": null,
      "outputs": [
        {
          "output_type": "stream",
          "name": "stdout",
          "text": [
            "area of circle : 78.53981633974483\n",
            "area of rectangle: 30\n"
          ]
        }
      ]
    },
    {
      "cell_type": "code",
      "source": [
        "# Implement a multi-level inheritance scenario where a class Vehicle has an attribute type. Derive a class Car\n",
        "# and further derive a class ElectricCar that adds a battery attribute.\n",
        "\n",
        "class Vehicle():\n",
        "  def __init__(self,type):\n",
        "    self.type = type\n",
        "\n",
        "  def display_type(self):\n",
        "    print(f\"display type: {self.type}\")\n",
        "\n",
        "class car(Vehicle):\n",
        "  def __init__(self,type,brand):\n",
        "    super().__init__(type)\n",
        "    self.brand = brand\n",
        "\n",
        "  def display_brand(self):\n",
        "    print(f\"car brand:{self.brand}\")\n",
        "\n",
        "class electric(car):\n",
        "  def __init__(self,type,brand,battery):\n",
        "    super().__init__(type,brand)\n",
        "    self.battery = battery\n",
        "\n",
        "  def display_battery(self):\n",
        "    print(f\"battery capacity:{self.battery}\")\n",
        "\n",
        "e_car = electric(\"electic\",\"BMW\",1000)\n",
        "\n",
        "e_car.display_type()\n",
        "e_car.display_brand()\n",
        "e_car.display_battery()"
      ],
      "metadata": {
        "colab": {
          "base_uri": "https://localhost:8080/"
        },
        "id": "x9BUpaDnIqtI",
        "outputId": "0231cd78-d62f-4cc9-ec97-66875978c56e"
      },
      "execution_count": null,
      "outputs": [
        {
          "output_type": "stream",
          "name": "stdout",
          "text": [
            "display type: electic\n",
            "car brand:BMW\n",
            "battery capacity:1000\n"
          ]
        }
      ]
    },
    {
      "cell_type": "code",
      "source": [
        "# Demonstrate polymorphism by creating a base class Bird with a method fly(). Create two derived classes\n",
        "# Sparrow and Penguin that override the fly() method.\n",
        "\n",
        "class bird():\n",
        "  def fly(self):\n",
        "    print(\"some of them can fly\")\n",
        "\n",
        "class sparrow(bird):\n",
        "  def fly(self):\n",
        "   print(\"sparrow flies away\")\n",
        "\n",
        "class Penguin(bird):\n",
        "  def fly(self):\n",
        "    print(\"penguin dont fly\")\n",
        "\n",
        "def bird_fly(bird):\n",
        "  bird.fly()\n",
        "\n",
        "sparrow = sparrow()\n",
        "Penguin = Penguin()\n",
        "\n",
        "bird_fly(sparrow)\n",
        "bird_fly(Penguin)"
      ],
      "metadata": {
        "colab": {
          "base_uri": "https://localhost:8080/"
        },
        "id": "EI8xPbyHNtX9",
        "outputId": "84d53783-333b-4f5d-a1ed-032524bed002"
      },
      "execution_count": null,
      "outputs": [
        {
          "output_type": "stream",
          "name": "stdout",
          "text": [
            "sparrow flies away\n",
            "penguin dont fly\n"
          ]
        }
      ]
    },
    {
      "cell_type": "code",
      "source": [
        "# Write a program to demonstrate encapsulation by creating a class BankAccount with private attributes\n",
        "# balance and methods to deposit, withdraw, and check balance.\n",
        "\n",
        "class BankAccount():\n",
        "  def __init__ (self,initial_amount=0):\n",
        "    self._amount = initial_amount\n",
        "\n",
        "  def deposite(self,amount):\n",
        "    if amount>0:\n",
        "      self._amount += amount\n",
        "      print(f\"deposite {amount}\")\n",
        "    else:\n",
        "      print(\"deposite some money\")\n",
        "\n",
        "  def withdraw(self,amount):\n",
        "    if 0 < amount <= self._amount:\n",
        "      self._amount -= amount\n",
        "      print(\"withdraw amount\")\n",
        "    else:\n",
        "      print(\"dont have money to withdraw\")\n",
        "\n",
        "  def check_balance(self):\n",
        "    print(f\"current balance : {self._amount}\")\n",
        "\n",
        "\n",
        "account = BankAccount(1000)\n",
        "account.check_balance()\n",
        "account.deposite(500)\n",
        "account.check_balance()\n",
        "account.withdraw(90)\n",
        "account.check_balance()\n"
      ],
      "metadata": {
        "colab": {
          "base_uri": "https://localhost:8080/"
        },
        "id": "h1_zbPbaQyI_",
        "outputId": "9059c06b-467f-4f93-a65c-423af80713de"
      },
      "execution_count": null,
      "outputs": [
        {
          "output_type": "stream",
          "name": "stdout",
          "text": [
            "current balance : 1000\n",
            "deposite 500\n",
            "current balance : 1500\n",
            "withdraw amount\n",
            "current balance : 1410\n"
          ]
        }
      ]
    },
    {
      "cell_type": "code",
      "source": [
        "# Demonstrate runtime polymorphism using a method play() in a base class Instrument. Derive classes Guitar\n",
        "# and Piano that implement their own version of play().\n",
        "\n",
        "class Instrument():\n",
        "  def play(self):\n",
        "    print(\"instrument is playing\")\n",
        "\n",
        "class Guitar(Instrument):\n",
        "  def play(self):\n",
        "    print(\"guitar is playing\")\n",
        "\n",
        "class Piano(Instrument):\n",
        "  def play(self):\n",
        "    print(\"piano is playing\")\n",
        "\n",
        "def perform(Instrument):\n",
        "  Instrument.play()\n",
        "\n",
        "Guitar = Guitar()\n",
        "perform(Guitar)\n",
        "Piano = Piano()\n",
        "perform(Piano)"
      ],
      "metadata": {
        "colab": {
          "base_uri": "https://localhost:8080/"
        },
        "id": "4DiCvUxVXTpE",
        "outputId": "a2d7b535-b62b-4d84-90cd-cfad12a31f3d"
      },
      "execution_count": null,
      "outputs": [
        {
          "output_type": "stream",
          "name": "stdout",
          "text": [
            "guitar is playing\n",
            "piano is playing\n"
          ]
        }
      ]
    },
    {
      "cell_type": "code",
      "source": [
        "# Create a class MathOperations with a class method add_numbers() to add two numbers and a static\n",
        "# method subtract_numbers() to subtract two numbers.\n",
        "\n",
        "class Mathoperations():\n",
        "\n",
        "  @classmethod\n",
        "  def add_twoNumbers(cls,a,b):\n",
        "    return (a+b)\n",
        "\n",
        "  @staticmethod\n",
        "  def Substract_twonumbers(a,b):\n",
        "    return (a-b)\n",
        "\n",
        "print(\"addition\",Mathoperations.add_twoNumbers(99,1))\n",
        "print(\"substraction\",Mathoperations.Substract_twonumbers(50,25))"
      ],
      "metadata": {
        "colab": {
          "base_uri": "https://localhost:8080/"
        },
        "id": "02ovqnzXarpn",
        "outputId": "b1d12f6f-e303-4a94-da39-a21cb5b4a97d"
      },
      "execution_count": null,
      "outputs": [
        {
          "output_type": "stream",
          "name": "stdout",
          "text": [
            "addition 100\n",
            "substraction 25\n"
          ]
        }
      ]
    },
    {
      "cell_type": "code",
      "source": [
        "#Implement a class Person with a class method to count the total number of persons created.\n",
        "\n",
        "class Person():\n",
        "  count = 0\n",
        "\n",
        "  def __init__(self,name):\n",
        "    self.name = name\n",
        "    Person.count += 1\n",
        "\n",
        "  @classmethod\n",
        "  def person_count(cls):\n",
        "      return cls.count\n",
        "\n",
        "p1 = Person(1)\n",
        "p2 = Person(9)\n",
        "p3 = Person(6)\n",
        "\n",
        "print(\"total number of persons: \",Person.person_count())"
      ],
      "metadata": {
        "colab": {
          "base_uri": "https://localhost:8080/"
        },
        "id": "iyuPtHAIdLgG",
        "outputId": "b53076f3-c400-4b15-a643-af42e4787aaf"
      },
      "execution_count": null,
      "outputs": [
        {
          "output_type": "stream",
          "name": "stdout",
          "text": [
            "total number of persons:  3\n"
          ]
        }
      ]
    },
    {
      "cell_type": "code",
      "source": [
        "# Write a class Fraction with attributes numerator and denominator. Override the str method to display the\n",
        "# fraction as \"numerator/denominator\".\n",
        "\n",
        "class fraction:\n",
        "  def __init__(self,numerator,denominator):\n",
        "   self.numerator = numerator\n",
        "   self.denominator = denominator\n",
        "\n",
        "  def __str__(self):\n",
        "    return f\"{self.numerator}/{self.denominator}\"\n",
        "\n",
        "f1 = fraction(3,4)\n",
        "print(f1)"
      ],
      "metadata": {
        "id": "6mNUJxohe9aA",
        "colab": {
          "base_uri": "https://localhost:8080/"
        },
        "outputId": "89868d1e-66b4-415d-a5d8-51bb252ac6d2"
      },
      "execution_count": 6,
      "outputs": [
        {
          "output_type": "stream",
          "name": "stdout",
          "text": [
            "3/4\n"
          ]
        }
      ]
    },
    {
      "cell_type": "code",
      "source": [
        "# Demonstrate operator overloading by creating a class Vector and overriding the add method to add two\n",
        "# vectors.\n",
        "\n",
        "class vector():\n",
        "  def __init__(self,x,y):\n",
        "    self.x = x\n",
        "    self.y = y\n",
        "\n",
        "  def __add__(self,other):\n",
        "    return vector(self.x + other.x , self.y + other.y)\n",
        "\n",
        "  def __str__(self):\n",
        "    return f\"({self.x},{self.y})\"\n",
        "\n",
        "v1 = vector (3,5)\n",
        "v2 = vector (6,8)\n",
        "v3 = v1 + v2\n",
        "\n",
        "print(\"vector 1 : \", v1)\n",
        "print(\"vector 2 : \", v2)\n",
        "print(\"after adding them : \", v3)"
      ],
      "metadata": {
        "colab": {
          "base_uri": "https://localhost:8080/"
        },
        "id": "p28xYYkKmiUL",
        "outputId": "868f9f86-c887-4e54-8375-f0215be1da57"
      },
      "execution_count": 14,
      "outputs": [
        {
          "output_type": "stream",
          "name": "stdout",
          "text": [
            "vector 1 :  (3,5)\n",
            "vector 2 :  (6,8)\n",
            "after adding them :  (9,13)\n"
          ]
        }
      ]
    },
    {
      "cell_type": "code",
      "source": [
        "# Create a class Person with attributes name and age. Add a method greet() that prints \"Hello, my name is\n",
        "# {name} and I am {age} years old.\"\n",
        "\n",
        "class person():\n",
        "  def __init__(self,name,age):\n",
        "    self.name = name\n",
        "    self.age = age\n",
        "\n",
        "  def greet(self):\n",
        "    print(f\"Hello,my name is {self.name} and i am {self.age} years old\")\n",
        "\n",
        "p1 = person(\"amit\",20)\n",
        "p1.greet()"
      ],
      "metadata": {
        "colab": {
          "base_uri": "https://localhost:8080/"
        },
        "id": "2RdgHZaspsBg",
        "outputId": "a187f9f1-6a8a-4b2e-fe11-1b714fdbabdc"
      },
      "execution_count": 16,
      "outputs": [
        {
          "output_type": "stream",
          "name": "stdout",
          "text": [
            "Hello,my name is amit and i am 20 years old\n"
          ]
        }
      ]
    },
    {
      "cell_type": "code",
      "source": [
        "#  Implement a class Student with attributes name and grades. Create a method average_grade() to compute\n",
        "# the average of the grades.\n",
        "\n",
        "class students():\n",
        "  def __init__(self,name,grades):\n",
        "    self.name = name\n",
        "    self.grades = grades\n",
        "\n",
        "  def average_grades(self):\n",
        "    if len(self.grades) == 0:\n",
        "     return 0\n",
        "    return int(sum(self.grades)/len(self.grades))\n",
        "\n",
        "s1 = students(\"rohan\",[10,5,30,99])\n",
        "print(f\"the average grades of s1 student : {s1.average_grades()}\")"
      ],
      "metadata": {
        "colab": {
          "base_uri": "https://localhost:8080/"
        },
        "id": "qneigSlNq0nw",
        "outputId": "0ec34ac0-51d6-4820-b713-489815909722"
      },
      "execution_count": 26,
      "outputs": [
        {
          "output_type": "stream",
          "name": "stdout",
          "text": [
            "the average grades of s1 student : 36\n"
          ]
        }
      ]
    },
    {
      "cell_type": "code",
      "source": [
        "# Create a class Rectangle with methods set_dimensions() to set the dimensions and area() to calculate the area.\n",
        "\n",
        "class Rectangle():\n",
        "  def __init__(self):\n",
        "    self.length = 0\n",
        "    self.width = 0\n",
        "\n",
        "  def set_dimention(self,length,width):\n",
        "   self.length = length\n",
        "   self.width = width\n",
        "\n",
        "  def area(self):\n",
        "    return self.length * self.width\n",
        "\n",
        "rec = Rectangle()\n",
        "rec.set_dimention(10,55)\n",
        "print(rec.area())"
      ],
      "metadata": {
        "colab": {
          "base_uri": "https://localhost:8080/"
        },
        "id": "mPcN-MW7xd5B",
        "outputId": "023a856b-2014-4eff-a5dc-2932495a2194"
      },
      "execution_count": 29,
      "outputs": [
        {
          "output_type": "stream",
          "name": "stdout",
          "text": [
            "550\n"
          ]
        }
      ]
    },
    {
      "cell_type": "code",
      "source": [
        "#Create a class Employee with a method calculate_salary() that computes the salary based on hours worked\n",
        "# and hourly rate. Create a derived class Manager that adds a bonus to the salary\n",
        "\n",
        "class Employee():\n",
        "  def __init__(self,name,hours_worked,hours_salary):\n",
        "    self.name = name\n",
        "    self.hours_worked = hours_worked\n",
        "    self.hours_salary = hours_salary\n",
        "\n",
        "  def calculate_salary(self):\n",
        "    return self.hours_worked * self.hours_salary\n",
        "\n",
        "class Manager(Employee):\n",
        "  def __init__(self,name,hours_worked,hours_salary,bonus):\n",
        "    super().__init__(name,hours_worked,hours_salary)\n",
        "    self.bonus = bonus\n",
        "\n",
        "  def calculate_salary(self):\n",
        "    base_salary = super().calculate_salary()\n",
        "    return base_salary + self.bonus\n",
        "\n",
        "emp = Employee(\"aman\",15,20)\n",
        "print(f\"{emp.name}'s salary : ${emp.calculate_salary()}\")\n",
        "mgr = Manager(\"mike\",18,20,20)\n",
        "print(f\"{mgr.name}'salary : ${mgr.calculate_salary()}\")"
      ],
      "metadata": {
        "colab": {
          "base_uri": "https://localhost:8080/"
        },
        "id": "WndhbXlV6m17",
        "outputId": "47e0de15-ce73-4b50-9fb0-e691885ddc5c"
      },
      "execution_count": 38,
      "outputs": [
        {
          "output_type": "stream",
          "name": "stdout",
          "text": [
            "aman's salary : $300\n",
            "mike'salary : $380\n"
          ]
        }
      ]
    },
    {
      "cell_type": "code",
      "source": [
        "# Create a class Product with attributes name, price, and quantity. Implement a method total_price() that\n",
        "# calculates the total price of the product.\n",
        "\n",
        "class Product():\n",
        "  def __init__(self,name,price,quantity):\n",
        "    self.name = name\n",
        "    self.price = price\n",
        "    self.quantity = quantity\n",
        "\n",
        "  def total_price(self):\n",
        "    return self.price * self.quantity\n",
        "\n",
        "p1 = Product(\"chair\",150,20)\n",
        "print(f\"the price of {p1.name} is : {p1.total_price()}\")"
      ],
      "metadata": {
        "colab": {
          "base_uri": "https://localhost:8080/"
        },
        "id": "06HygWV_Aosg",
        "outputId": "c0eb6622-3360-4c2e-ecf6-17b15da2caf4"
      },
      "execution_count": 40,
      "outputs": [
        {
          "output_type": "stream",
          "name": "stdout",
          "text": [
            "the price of chair is : 3000\n"
          ]
        }
      ]
    },
    {
      "cell_type": "code",
      "source": [
        "#Create a class Animal with an abstract method sound(). Create two derived classes Cow and Sheep that\n",
        "# implement the sound() method.\n",
        "\n",
        "from abc import ABC , abstractmethod\n",
        "class Animal(ABC):\n",
        "  def sound(self):\n",
        "    pass\n",
        "\n",
        "class cow(Animal):\n",
        "  def sound(self):\n",
        "    return \"mooooooooo\"\n",
        "\n",
        "class sheep(Animal):\n",
        "  def sound(self):\n",
        "    return \"mheeeehehee\"\n",
        "\n",
        "cow = cow()\n",
        "sheep = sheep()\n",
        "\n",
        "print(f\"cow makes '{cow.sound()}' sound\")\n",
        "print(f\"sheep makes '{sheep.sound()}' sound\")"
      ],
      "metadata": {
        "colab": {
          "base_uri": "https://localhost:8080/"
        },
        "id": "tVDQjLZeBxj3",
        "outputId": "fad49ef2-02fc-41b5-ca33-026bedefed6c"
      },
      "execution_count": 43,
      "outputs": [
        {
          "output_type": "stream",
          "name": "stdout",
          "text": [
            "cow makes 'mooooooooo' sound\n",
            "sheep makes 'mheeeehehee' sound\n"
          ]
        }
      ]
    },
    {
      "cell_type": "code",
      "source": [
        "# Create a class Book with attributes title, author, and year_published. Add a method get_book_info() that\n",
        "# returns a formatted string with the book's details.\n",
        "\n",
        "class Book():\n",
        "  def __init__(self,title,author,year_publish):\n",
        "    self.title = title\n",
        "    self.author = author\n",
        "    self.year_publish = year_publish\n",
        "\n",
        "  def get_book_info(self):\n",
        "    return f\"'{self.title}' by {self.author}, was published in {self.year_publish}\"\n",
        "\n",
        "Book1 = Book(\"ikigai\",\"Héctor García\",2017)\n",
        "print(Book1.get_book_info())"
      ],
      "metadata": {
        "colab": {
          "base_uri": "https://localhost:8080/"
        },
        "id": "YpFNlNO3C4gj",
        "outputId": "c12b8a9a-a802-4468-c725-dc18406f951b"
      },
      "execution_count": 47,
      "outputs": [
        {
          "output_type": "stream",
          "name": "stdout",
          "text": [
            "'ikigai' by Héctor García, was published in 2017\n"
          ]
        }
      ]
    },
    {
      "cell_type": "code",
      "source": [
        "# Create a class House with attributes address and price. Create a derived class Mansion that adds an\n",
        "# attribute number_of_rooms.\n",
        "\n",
        "class House():\n",
        "  def __init__(self,address,price):\n",
        "    self.address = address\n",
        "    self.price = price\n",
        "\n",
        "  def get_info(self):\n",
        "    return f\"Address: {self.address},Price: {self.price}\"\n",
        "\n",
        "class Mansion(House):\n",
        "  def number_of_rooms(self,address,price,number_of_rooms):\n",
        "    super().__init__(address,price)\n",
        "    self.number_of_rooms = number_of_rooms\n",
        "\n",
        "  def get_info(self):\n",
        "    return f\"Address: {self.address},Price: {self.price} , Rooms : {self.number_of_rooms}\""
      ],
      "metadata": {
        "id": "bvPUG3ACEhXJ"
      },
      "execution_count": 48,
      "outputs": []
    }
  ]
}