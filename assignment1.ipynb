{
  "cells": [
    {
      "cell_type": "markdown",
      "source": [
        "1. Write a Python program to print \"Hello, World!"
      ],
      "metadata": {
        "id": "0S5z4cxxFRQJ"
      }
    },
    {
      "cell_type": "code",
      "source": [
        "print(\"Hello, World!\")"
      ],
      "metadata": {
        "id": "eNrwKroFFmMa",
        "outputId": "4b82c6e5-0374-4650-c780-81a649a07408",
        "colab": {
          "base_uri": "https://localhost:8080/"
        }
      },
      "execution_count": null,
      "outputs": [
        {
          "output_type": "stream",
          "name": "stdout",
          "text": [
            "Hello, World!\n"
          ]
        }
      ]
    },
    {
      "cell_type": "markdown",
      "source": [
        "2. Write a Python program that displays your name and age."
      ],
      "metadata": {
        "id": "LF2dBiGYFzFh"
      }
    },
    {
      "cell_type": "code",
      "source": [
        "name = \"Mohit Sengar\"\n",
        "age = 21\n",
        "print(name)\n",
        "print(age)"
      ],
      "metadata": {
        "id": "Rvdn466HF9-p",
        "outputId": "f9ad2aa9-10bb-4463-8115-d4a7005b7dfa",
        "colab": {
          "base_uri": "https://localhost:8080/"
        }
      },
      "execution_count": null,
      "outputs": [
        {
          "output_type": "stream",
          "name": "stdout",
          "text": [
            "Mohit Sengar\n",
            "21\n"
          ]
        }
      ]
    },
    {
      "cell_type": "markdown",
      "source": [
        "3. Write code to print all the pre-defined keywords in Python using the keyword library."
      ],
      "metadata": {
        "id": "VVKwzyoFGyTx"
      }
    },
    {
      "cell_type": "code",
      "source": [
        "import keyword\n",
        "print(\"python keywords\")\n",
        "print(keyword.kwlist)"
      ],
      "metadata": {
        "id": "F7qTu54wHA8Z",
        "outputId": "3151cbf8-6701-4f2f-f17c-a40ff881bc93",
        "colab": {
          "base_uri": "https://localhost:8080/"
        }
      },
      "execution_count": null,
      "outputs": [
        {
          "output_type": "stream",
          "name": "stdout",
          "text": [
            "pyhton keywords\n",
            "['False', 'None', 'True', 'and', 'as', 'assert', 'async', 'await', 'break', 'class', 'continue', 'def', 'del', 'elif', 'else', 'except', 'finally', 'for', 'from', 'global', 'if', 'import', 'in', 'is', 'lambda', 'nonlocal', 'not', 'or', 'pass', 'raise', 'return', 'try', 'while', 'with', 'yield']\n"
          ]
        }
      ]
    },
    {
      "cell_type": "markdown",
      "source": [
        "4. Write a program that checks if a given word is a Python keyword."
      ],
      "metadata": {
        "id": "sPozNhClKBLp"
      }
    },
    {
      "cell_type": "code",
      "source": [
        "import keyword\n",
        "word = (input(\"enter the word to check if it is keyword or not: \\n\"))\n",
        "\n",
        "if keyword.iskeyword(word):\n",
        "  print(f\"'{word}'is a keyword\")\n",
        "else:\n",
        "  print(f\"'{word}' is a keyword\")"
      ],
      "metadata": {
        "id": "2gcw31-RKpz5",
        "outputId": "e859fdf0-45c0-4c0f-ef78-0d26966b5e92",
        "colab": {
          "base_uri": "https://localhost:8080/"
        }
      },
      "execution_count": null,
      "outputs": [
        {
          "output_type": "stream",
          "name": "stdout",
          "text": [
            "enter the word to check if it is keyword or not: \n",
            "class\n",
            "'class'is a keyword\n"
          ]
        }
      ]
    },
    {
      "cell_type": "markdown",
      "source": [
        "5. Create a list and tuple in Python, and demonstrate how attempting to change an element works differently\n",
        "for each."
      ],
      "metadata": {
        "id": "GpFQir3pMJ7a"
      }
    },
    {
      "cell_type": "code",
      "source": [
        "list1 = [8,3,4,21,99]  #list\n",
        "print(list1[2])\n",
        "list1[2] = 65\n",
        "print(list1)\n",
        "\n",
        "tuple1 = (67,44,56,29,78)  #tuple\n",
        "temp=list(tuple1)\n",
        "print(temp[1])\n",
        "temp[1] = 99\n",
        "tuple1 = tuple(temp)\n",
        "print(tuple1)"
      ],
      "metadata": {
        "id": "cGbvI4AiMPXQ",
        "outputId": "5f5cc37f-d222-45a3-a7cc-458a19f8c47e",
        "colab": {
          "base_uri": "https://localhost:8080/"
        }
      },
      "execution_count": null,
      "outputs": [
        {
          "output_type": "stream",
          "name": "stdout",
          "text": [
            "4\n",
            "[8, 3, 65, 21, 99]\n",
            "44\n",
            "(67, 99, 56, 29, 78)\n"
          ]
        }
      ]
    },
    {
      "cell_type": "markdown",
      "source": [
        "6.  Write a function to demonstrate the behavior of mutable and immutable arguments."
      ],
      "metadata": {
        "id": "lddfIeQeOyak"
      }
    },
    {
      "cell_type": "code",
      "source": [
        "def test_args(my_list, my_number):\n",
        "    my_list.append(10)\n",
        "    my_number += 5\n",
        "\n",
        "\n",
        "lst = [1, 2, 3]\n",
        "num = 100\n",
        "\n",
        "test_args(lst, num)\n",
        "\n",
        "print(lst)  #mutable\n",
        "print(num)  #immutable"
      ],
      "metadata": {
        "id": "ggcfO7tyO4Mi",
        "colab": {
          "base_uri": "https://localhost:8080/"
        },
        "outputId": "81328b72-73de-4234-dfd8-2d81b807ba11"
      },
      "execution_count": null,
      "outputs": [
        {
          "output_type": "stream",
          "name": "stdout",
          "text": [
            "[1, 2, 3, 10]\n",
            "100\n"
          ]
        }
      ]
    },
    {
      "cell_type": "markdown",
      "source": [
        "7. Write a program that performs basic arithmetic operations on two user-input numbers"
      ],
      "metadata": {
        "id": "X3pcIO5DaOcm"
      }
    },
    {
      "cell_type": "code",
      "source": [
        "a = int(input(\"enter the value of a: \"))\n",
        "b = int(input(\"enter the value of b: \"))\n",
        "add = a+b\n",
        "print(f\"{a} + {b} = \",add)\n",
        "sub = a-b\n",
        "print(f\"{a} - {b} = \",sub)\n",
        "mul = a*b\n",
        "print(f\"{a} * {b} = \",mul)\n",
        "div = a/b\n",
        "print(f\"{a} / {b} = \",div)\n",
        "expo = a**b\n",
        "print(f\"{a} ** {b}= \",expo)"
      ],
      "metadata": {
        "colab": {
          "base_uri": "https://localhost:8080/"
        },
        "id": "gYaB9pc1aSzG",
        "outputId": "4100beaf-ee91-40f3-ab5e-a4376bb49e66"
      },
      "execution_count": null,
      "outputs": [
        {
          "output_type": "stream",
          "name": "stdout",
          "text": [
            "enter the value of a: 4\n",
            "enter the value of b: 2\n",
            "4 + 2 =  6\n",
            "4 - 2 =  2\n",
            "4 * 2 =  8\n",
            "4 / 2 =  2.0\n",
            "4 ** 2=  16\n"
          ]
        }
      ]
    },
    {
      "cell_type": "markdown",
      "source": [
        "8. Write a program to demonstrate the use of logical operators."
      ],
      "metadata": {
        "id": "_As7ZqrncsTo"
      }
    },
    {
      "cell_type": "code",
      "source": [
        "x = int(input(\"enter the value of x: \"))\n",
        "if x>0 and x<10 :\n",
        "  print(\"x lie between 0-10\")\n",
        "elif x==33 or x==99 :\n",
        "  print(\"x is 33 or 99\")\n",
        "else:\n",
        "  print(not(x > 3 and x < 10))\n"
      ],
      "metadata": {
        "colab": {
          "base_uri": "https://localhost:8080/"
        },
        "id": "JXzx69Q2cwrt",
        "outputId": "d62892a1-7aee-49ae-a1ef-0d63b6ee7e79"
      },
      "execution_count": null,
      "outputs": [
        {
          "output_type": "stream",
          "name": "stdout",
          "text": [
            "enter the value of x: 33\n",
            "x is 33 or 99\n"
          ]
        }
      ]
    },
    {
      "cell_type": "markdown",
      "source": [
        "9. Write a Python program to convert user input from string to integer, float, and boolean types."
      ],
      "metadata": {
        "id": "w6MIngeOD3NU"
      }
    },
    {
      "cell_type": "code",
      "source": [
        "user = input(\"enter any number: \")\n",
        "print(type(user))\n",
        "int_value = int(user)\n",
        "print(int_value)\n",
        "print(type(int_value))\n",
        "float_value = float(user)\n",
        "print(float_value)\n",
        "print(type(float_value))\n",
        "boolean_value = bool(user)\n",
        "print(boolean_value)\n",
        "print(type(boolean_value))"
      ],
      "metadata": {
        "colab": {
          "base_uri": "https://localhost:8080/"
        },
        "id": "uEM_o8ZnD-Ma",
        "outputId": "aed8c53e-bc70-470a-90c7-8a11b9af619f"
      },
      "execution_count": null,
      "outputs": [
        {
          "output_type": "stream",
          "name": "stdout",
          "text": [
            "enter any number: \n",
            "<class 'str'>\n",
            "False\n",
            "<class 'bool'>\n"
          ]
        }
      ]
    },
    {
      "cell_type": "markdown",
      "source": [
        " 10. Write code to demonstrate type casting with list elements."
      ],
      "metadata": {
        "id": "2NovMLpQITGH"
      }
    },
    {
      "cell_type": "code",
      "source": [
        "list1 = [88,3.3,-99]\n",
        "#print(type(list1))\n",
        "#print(int(list1[1]))\n",
        "#print(int(list1[0]))\n",
        "#print(int(list1[2]))\n",
        "for i in list1 :\n",
        "  print(int(i))\n",
        "  i =+ 1"
      ],
      "metadata": {
        "colab": {
          "base_uri": "https://localhost:8080/"
        },
        "id": "hmP_bfCoIaZZ",
        "outputId": "45b06aa4-03be-4eed-8948-c077b9c9d9f1"
      },
      "execution_count": null,
      "outputs": [
        {
          "output_type": "stream",
          "name": "stdout",
          "text": [
            "88\n",
            "3\n",
            "-99\n"
          ]
        }
      ]
    },
    {
      "cell_type": "markdown",
      "source": [
        "11. Write a program that checks if a number is positive, negative, or zero."
      ],
      "metadata": {
        "id": "wNQ1dWfoKXCB"
      }
    },
    {
      "cell_type": "code",
      "source": [
        "a = int(input(\"enter the number: \"))\n",
        "if a == 0:\n",
        "  print(\"number is zero\")\n",
        "elif a > 0:\n",
        "  print(\"number is positive\")\n",
        "else :\n",
        "  print(\"number is negative\")"
      ],
      "metadata": {
        "colab": {
          "base_uri": "https://localhost:8080/"
        },
        "id": "4XTdF8MaKahL",
        "outputId": "398a8fd3-87ab-46c2-d980-29b023199bfc"
      },
      "execution_count": null,
      "outputs": [
        {
          "output_type": "stream",
          "name": "stdout",
          "text": [
            "enter the number: -33\n",
            "number is negative\n"
          ]
        }
      ]
    },
    {
      "cell_type": "markdown",
      "source": [
        " 12. Write a for loop to print numbers from 1 to 10."
      ],
      "metadata": {
        "id": "jLb2tJvZLIzP"
      }
    },
    {
      "cell_type": "code",
      "source": [
        "for i in range(11):\n",
        "  print(i)\n",
        "  i =+ 1"
      ],
      "metadata": {
        "colab": {
          "base_uri": "https://localhost:8080/"
        },
        "id": "kdsDncVyLMLd",
        "outputId": "3bd56e3c-b918-4bc7-ea57-290e1d320937"
      },
      "execution_count": null,
      "outputs": [
        {
          "output_type": "stream",
          "name": "stdout",
          "text": [
            "0\n",
            "1\n",
            "2\n",
            "3\n",
            "4\n",
            "5\n",
            "6\n",
            "7\n",
            "8\n",
            "9\n",
            "10\n"
          ]
        }
      ]
    },
    {
      "cell_type": "markdown",
      "source": [
        " 13. Write a Python program to find the sum of all even numbers between 1 and 50."
      ],
      "metadata": {
        "id": "R2VM3xHtLfE-"
      }
    },
    {
      "cell_type": "code",
      "source": [
        "sum = 0\n",
        "for i in range (51):\n",
        "  if i%2 == 0 :\n",
        "    sum += i\n",
        "print(sum)\n"
      ],
      "metadata": {
        "colab": {
          "base_uri": "https://localhost:8080/"
        },
        "id": "GnNBSQHXLlvB",
        "outputId": "1f42ee5f-67c4-4879-aba0-8e6ad3408da4"
      },
      "execution_count": null,
      "outputs": [
        {
          "output_type": "stream",
          "name": "stdout",
          "text": [
            "650\n"
          ]
        }
      ]
    },
    {
      "cell_type": "markdown",
      "source": [
        " 14. Write a program to reverse a string using a while loop."
      ],
      "metadata": {
        "id": "_IbpfhFoNC7_"
      }
    },
    {
      "cell_type": "code",
      "source": [
        "a = \"vakiya\"\n",
        "index = len(a)-1\n",
        "b=\"\"\n",
        "while index>=0:\n",
        "  b += a[index]\n",
        "  index = index-1\n",
        "print(b)"
      ],
      "metadata": {
        "colab": {
          "base_uri": "https://localhost:8080/"
        },
        "id": "x77WKxLENId1",
        "outputId": "33b6b1d0-7910-4990-bec3-44dbf15024c4"
      },
      "execution_count": null,
      "outputs": [
        {
          "output_type": "stream",
          "name": "stdout",
          "text": [
            "ayikav\n"
          ]
        }
      ]
    },
    {
      "cell_type": "markdown",
      "source": [
        " 15. Write a Python program to calculate the factorial of a number provided by the user using a while loop."
      ],
      "metadata": {
        "id": "2uxdy7CFRgMR"
      }
    },
    {
      "cell_type": "code",
      "source": [
        "number = int(input(\"enter the number for knowing the factorial of it: \"))\n",
        "factorial = 1\n",
        "i = 1\n",
        "while i <= number:\n",
        "  factorial *= i\n",
        "  i +=1\n",
        "print(factorial)"
      ],
      "metadata": {
        "colab": {
          "base_uri": "https://localhost:8080/"
        },
        "id": "olOwtj8ZRi4l",
        "outputId": "c26d8438-1a53-4992-8191-bd31ba9512b5"
      },
      "execution_count": null,
      "outputs": [
        {
          "output_type": "stream",
          "name": "stdout",
          "text": [
            "enter the number for knowing the factorial of it: 4\n",
            "24\n"
          ]
        }
      ]
    },
    {
      "cell_type": "markdown",
      "source": [
        "1. What is Python, and why is it popular?\n",
        "\n",
        "= Python is a high-level, easy-to-learn programming language known for its simple syntax and versatility.\n",
        "It is popular because it's beginner-friendly, supports multiple domains like web development,\n",
        "data science, data analyst and AI, and has a large library ecosystem. Its readability and strong community support\n",
        " make it a top choice for both beginners and professionals."
      ],
      "metadata": {
        "id": "2V-wUJutgHEa"
      }
    },
    {
      "cell_type": "markdown",
      "source": [
        "2. What is an interpreter in Python?\n",
        "\n",
        "= an interpreter is a program that reads and executes your code line by line. Unlike other languages, Python doesn't need to be compiled before running — the interpreter processes and runs it directly. This makes testing and debugging faster and easier."
      ],
      "metadata": {
        "id": "dmPF5ipcgIPH"
      }
    },
    {
      "cell_type": "markdown",
      "source": [
        "3. What are pre-defined keywords in Python?\n",
        "\n",
        "= Pre-defined keywords in Python are reserved words that have special meaning and are used to define the structure and rules of the language. You cannot use them as variable names, function names, or identifiers. Examples include if, else, while, def, class, and return."
      ],
      "metadata": {
        "id": "JQc9EMW2gKzr"
      }
    },
    {
      "cell_type": "markdown",
      "source": [
        "4. Can keywords be used as variable names?\n",
        "\n",
        "= no,keywords can not be used as a variable name in python.using them as variable name cause syntax error\n",
        "\n",
        "5. What is mutability in Python?\n",
        "\n",
        "= mutability in python refers that we can change the object's value or it's type after creating it\n",
        "\n",
        "6. Why are lists mutable, but tuples are immutable?\n",
        "\n",
        "= lists are mutable beacuse we can manipulate(change,update) after creating them but in case or tuples we can't manipulate them , incase we want to manipulate tuples we have to convert it into list.\n",
        "\n",
        "7. What is the difference between “==” and “is” operators in Python?\n",
        "\n",
        "= \"==\"is used when we want to check if the variables have the same values or not , \"is\" is used when we have to check for the exact same object in the memory\n",
        "\n",
        "8. What are logical operators in Python?\n",
        "\n",
        "= Logical operators in Python are used to combine or compare boolean expressions \"and\" this return true when both are true , \"or\" this return true when even one of them is true , \"not\" this reverse the boolean value\n",
        "\n",
        "9. What is type casting in Python?\n",
        "\n",
        "= type casting means converting one data type into another,it helps when we are working with different data types\n",
        "\n",
        "10. What is the difference between implicit and explicit type casting?\n",
        "\n",
        "= implicit Type Casting is done automatically by Python when it converts one data type to another without user involvement,Explicit Type Casting is done manually by the programmer using functions\n",
        "\n",
        "11. What is the purpose of conditional statements in Python?\n",
        "\n",
        "= Conditional statements in Python are used to make decisions in a program based on certain conditions. They allow the program to execute different blocks of code\n",
        "\n",
        "12. How does the elif statement work?\n",
        "\n",
        "= The elif statement in Python is used to check multiple conditions after an initial if condition. It runs its block only if the if condition is false and the elif condition is true.\n",
        "\n",
        "13. What is the difference between for and while loops?\n",
        "\n",
        "= we generally use for loop when we know the number of iteration,it iterates over a sequence and while loop is user when we dont know the number of iterations,it keeps executing untill the condition is true\n",
        "\n",
        "14. Describe a scenario where a while loop is more suitable than a for loop.\n",
        "\n",
        "=A while loop is more suitable when you dont know in advance how many times the loop needs to run, and it should continue until a certain condition becomes false. like, if we want to keep taking the input untill the user say exit.\n",
        "\n"
      ],
      "metadata": {
        "id": "5-tMlD6cgNhr"
      }
    }
  ],
  "metadata": {
    "colab": {
      "provenance": []
    },
    "kernelspec": {
      "display_name": "Python 3",
      "name": "python3"
    }
  },
  "nbformat": 4,
  "nbformat_minor": 0
}