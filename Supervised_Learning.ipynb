{
  "nbformat": 4,
  "nbformat_minor": 0,
  "metadata": {
    "colab": {
      "provenance": [],
      "authorship_tag": "ABX9TyOHtSsxMy0hG58QE4/SmnvW",
      "include_colab_link": true
    },
    "kernelspec": {
      "name": "python3",
      "display_name": "Python 3"
    },
    "language_info": {
      "name": "python"
    }
  },
  "cells": [
    {
      "cell_type": "markdown",
      "metadata": {
        "id": "view-in-github",
        "colab_type": "text"
      },
      "source": [
        "<a href=\"https://colab.research.google.com/github/mohit27-maker/pwAssigment/blob/main/Supervised_Learning.ipynb\" target=\"_parent\"><img src=\"https://colab.research.google.com/assets/colab-badge.svg\" alt=\"Open In Colab\"/></a>"
      ]
    },
    {
      "cell_type": "markdown",
      "source": [
        "# ***Supervised Learning: Regression***"
      ],
      "metadata": {
        "id": "_d22o2fkVGOl"
      }
    },
    {
      "cell_type": "markdown",
      "source": [
        "**1. What is Simple Linear Regression (SLR)? Explain its purpose.**\n",
        "\n",
        "= Simple Linear Regression (SLR) is a fundamental statistical method used to model and analyze the relationship between two quantitative variables:\n",
        "\n",
        "> one independent variable (X) — the predictor or explanatory variable\n",
        "\n",
        "> one dependent variable (Y) — the response or outcome variable\n",
        "\n",
        "## Purpose of SLR\n",
        "\n",
        "> Prediction\n",
        "- To estimate or forecast the value of Y for a given X.\n",
        "- Example: Predicting a person’s weight from their height.\n",
        "\n",
        "> Understanding Relationships\n",
        "- To quantify how strongly X influences Y, and in what direction.\n",
        "- Example: Assessing whether more study hours lead to higher exam scores.\n",
        "\n",
        "> Inference\n",
        "- To test hypotheses about the relationship — for instance, whether the slope (β1) significantly differs from zero, which would suggest a meaningful association.\n",
        "\n",
        "\n",
        "**2. What are the key assumptions of Simple Linear Regression?**\n",
        "\n",
        "= Simple Linear Regression (SLR) rests on a few key statistical assumptions that ensure the model’s estimates and significance tests are valid.\n",
        "\n",
        "a.  Linearity\n",
        "- The relationship between the independent variable X and the dependent variable Y is linear—that is, changes in X produce proportional changes in Y.\n",
        "\n",
        "b. Independence of Errors\n",
        "- The residuals (errors) are independent of each other—no autocorrelation.\n",
        "\n",
        "c. Normality of Errors\n",
        "- The residuals are normally distributed around the regression line.\n",
        "\n",
        "d. Equal Variance (Homoscedasticity)\n",
        "- The variance of residuals is constant across all levels of X.\n",
        "\n",
        "e. multicollinarity\n",
        "- the features should not be related or should have least relation.\n",
        "\n",
        "\n",
        "**3.Write the mathematical equation for a simple linear regression model and\n",
        "explain each term.**\n",
        "\n",
        "= the essential mathematical form of a Simple Linear Regression (SLR) model:\n",
        "         Yi = β0 + β1 Xi + εi\n",
        "\n",
        "> Yi — Dependent Variable (Response)\n",
        "- Represents the observed value of the outcome for observation i.\n",
        "- It’s the variable we’re trying to predict or explain.\n",
        "\n",
        "> Xi — Independent Variable (Predictor)\n",
        "- The known or measured input value for observation i.\n",
        "- It explains variations in Yi.\n",
        "\n",
        "> β0 — Intercept\n",
        "- The expected (predicted) value of Y when X=0.\n",
        "- Graphically, it’s where the regression line crosses the Y-axis.\n",
        "\n",
        "> β1— Slope Coefficient\n",
        "- The average change in Y when X increases by one unit.\n",
        "\n",
        "> εi— Error Term (Residual)\n",
        "- Captures the randomness or unmodeled factors affecting Yi.\n",
        "\n",
        "\n",
        "**4. Provide a real-world example where simple linear regression can be\n",
        "applied. **\n",
        "\n",
        "= Predicting House Prices from Square Footage\n",
        "Scenario : A real estate analyst wants an easy way to estimate how much a house will sell for based solely on its size.\n",
        "\n",
        "Variables :\n",
        "- Dependent variable Y: House selling price (in dollars)\n",
        "- Independent variable X: House size (in square feet)\n",
        "\n",
        "Model Price =\n",
        "             β0 + β1(Square Footage) + ε\n",
        "\n",
        "\n",
        "**5. What is the method of least squares in linear regression?**\n",
        "\n",
        "=  The method of least squares in linear regression is a mathematical technique used to find the best-fitting line through a set of data points by minimizing the sum of the squared differences (errors) between the observed values and the values predicted by the line.\n",
        "\n",
        "In simple linear regression, we model the relationship between:\n",
        "\n",
        "    Y = β0 + β1X + ε\n",
        "We want to find values of 𝛽0 and β1 such that the sum of squared residuals (errors) is minimum.\n",
        "  \n",
        "    β1 = ∑(Xi​−Xˉ)(Yi​−Yˉ)​ / ∑(Xi+x-)^2\n",
        "\n",
        "\n",
        "\n",
        "**6. What is Logistic Regression? How does it differ from Linear Regression?**\n",
        "\n",
        "= Logistic Regression is a supervised machine learning algorithm used for classification problems,it predicts the probability that an input belongs to a specific class.It is used for binary classification where the output can be one of two possible categories such as Yes/No, True/False or 0/1.\n",
        "\n",
        "    P(Y=1∣X) = 1/1+e^-(β0 + β1X)\n",
        "\n",
        "\n",
        "**7. Name and briefly describe three common evaluation metrics for regression\n",
        "models.**\n",
        "\n",
        "= three common evaluation metrics used to assess the performance of regression models\n",
        "\n",
        "1. Mean Absolute Error (MAE)\n",
        "- MAE measures the average absolute difference between the actual and predicted values.\n",
        "\n",
        ">    MAE = 1/n ∑^ni=1 ​∣Yi​−Yi​^​∣\n",
        "\n",
        "- It tells you how much the predictions are off, on average, regardless of direction (positive or negative).\n",
        "\n",
        "2. Mean Squared Error (MSE)\n",
        "- MSE measures the average of the squared differences between actual and predicted values.\n",
        "\n",
        ">    MSE=1/n ​i=1∑^n​(Yi​−Yi​^​)^2\n",
        "\n",
        "- Squaring penalizes larger errors more heavily.\n",
        "- Sensitive to outliers.\n",
        "\n",
        "3. R-squared (Coefficient of Determination)\n",
        "- R² shows the proportion of variance in the dependent variable that is explained by the model.\n",
        "\n",
        ">    R^2 = 1−​SSres​​/SStot\n",
        "\n",
        "- SSres = Sum of squared residuals (errors)\n",
        "- SStot = Total sum of squares\n",
        "\n",
        "\n",
        "**8. What is the purpose of the R-squared metric in regression analysis?**\n",
        "\n",
        "= R-squared — also called the Coefficient of Determination — measures how well a regression model explains the variability of the dependent variable (the output) based on the independent variables (inputs).\n",
        "\n",
        "R² tells you how much of the variation in your target variable (Y) can be explained by the model.\n",
        "\n",
        ">   R2=1-SSres/SStot\n",
        "\n",
        "> Interpretation:\n",
        "- R² = 1 → The model perfectly explains all variability (perfect fit).\n",
        "- R² = 0 → The model explains none of the variability (no relationship).\n",
        "- R² = 0.8 → The model explains 80% of the variation in the target variable; 20% is unexplained (random or due to noise).\n",
        "\n",
        "**9. : Write Python code to fit a simple linear regression model using scikit-learn and print the slope and intercept.**\n"
      ],
      "metadata": {
        "id": "cYWJz5mHVcgg"
      }
    },
    {
      "cell_type": "code",
      "source": [
        "from sklearn.linear_model import LinearRegression\n",
        "import numpy as np\n",
        "\n",
        "X = np.array([1, 2, 3, 4, 5]).reshape(-1, 1)\n",
        "y = np.array([2, 4, 5, 4, 5])\n",
        "\n",
        "model = LinearRegression()\n",
        "model.fit(X, y)\n",
        "\n",
        "print(\"Slope (Coefficient):\", model.coef_[0])\n",
        "print(\"Intercept:\", model.intercept_)\n"
      ],
      "metadata": {
        "colab": {
          "base_uri": "https://localhost:8080/"
        },
        "id": "d4Klv907i2i-",
        "outputId": "53f5f0e0-6132-4343-f648-73f97c312d98"
      },
      "execution_count": 1,
      "outputs": [
        {
          "output_type": "stream",
          "name": "stdout",
          "text": [
            "Slope (Coefficient): 0.6\n",
            "Intercept: 2.2\n"
          ]
        }
      ]
    },
    {
      "cell_type": "markdown",
      "source": [
        "**10. : How do you interpret the coefficients in a simple linear regression model?**\n",
        "\n",
        "> Y=β0 ​+ β1​X + ε\n",
        "\n",
        "where:\n",
        " - Y = dependent (target) variable\n",
        "- X = independent (predictor) variable\n",
        "- 𝛽0 = intercept\n",
        "- 𝛽1= slope (coefficient of X)\n",
        "- ε = error term\n",
        "\n",
        "> Interpretation of Coefficients\n",
        "1. Intercept (β₀):\n",
        "- The predicted value of Y when X = 0.\n",
        "- It tells you where the regression line crosses the Y-axis.\n",
        "\n",
        "2. Slope (β₁):\n",
        "- The average change in Y for a one-unit increase in X.\n",
        "- It shows the strength and direction of the relationship between X and Y."
      ],
      "metadata": {
        "id": "VWyTJ6EkjDhX"
      }
    }
  ]
}