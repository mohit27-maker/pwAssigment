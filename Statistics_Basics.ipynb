{
  "nbformat": 4,
  "nbformat_minor": 0,
  "metadata": {
    "colab": {
      "provenance": [],
      "authorship_tag": "ABX9TyMdyeOMBjGU2shkC50dCRpx",
      "include_colab_link": true
    },
    "kernelspec": {
      "name": "python3",
      "display_name": "Python 3"
    },
    "language_info": {
      "name": "python"
    }
  },
  "cells": [
    {
      "cell_type": "markdown",
      "metadata": {
        "id": "view-in-github",
        "colab_type": "text"
      },
      "source": [
        "<a href=\"https://colab.research.google.com/github/mohit27-maker/pwAssigment/blob/main/Statistics_Basics.ipynb\" target=\"_parent\"><img src=\"https://colab.research.google.com/assets/colab-badge.svg\" alt=\"Open In Colab\"/></a>"
      ]
    },
    {
      "cell_type": "markdown",
      "source": [
        "# ***Statistics Basics| Assignment***\n",
        "\n",
        "Question 1: What is the difference between descriptive statistics and inferential statistics? Explain with examples.\n",
        "\n",
        "Answer:\n",
        "\n",
        " A. Descriptive Statistics :\n",
        "\n",
        "•\tDefinition: Descriptive statistics is about summarizing and describing the important features of a dataset.\n",
        "\n",
        "•\tIt organizes raw data into a meaningful form using measures like:\n",
        "   o\tCentral Tendency: mean, median, mode\n",
        "   o\tDispersion/Variability: range, variance, standard deviation\n",
        "   o\tVisualization: bar charts, histograms, pie charts, boxplots\n",
        "\n",
        "•\tPurpose: To describe what the data shows without making predictions or generalizations beyond that dataset.\n",
        "\n",
        "•\tExample:A teacher calculates the average marks of 50 students in her class and finds it is 72 out of 100.\n",
        "\n",
        "→ This only describes the performance of those 50 students (the data at hand).\n",
        "    \n",
        "B. Inferential Statistics\n",
        "\n",
        "•\tDefinition: Inferential statistics involves making predictions, decisions, or generalizations about a larger population based on a sample of data.\n",
        "\n",
        "•\tIt uses:\n",
        "o\tEstimation: confidence intervals\n",
        "o\tHypothesis Testing: t-test, chi-square test, ANOVA\n",
        "o\tRegression/Correlation\n",
        "\n",
        "•\tPurpose: To draw conclusions about a population by analyzing a smaller representative sample.\n",
        "\n",
        "•\tExample:\n",
        "A company surveys 200 customers out of its 10,000 customers. From this sample, they conclude with 95% confidence that the average satisfaction score of all customers is between 4.1 and 4.3 (out of 5).\n",
        "\n",
        "→ This generalizes from the sample to the entire population.\n",
        "\n",
        "\n",
        "\n",
        "\n",
        "Question 2: What is sampling in statistics? Explain the differences between random and stratified sampling.\n",
        "\n",
        "Answer:\n",
        "  Sampling is the process of selecting a subset of individuals (sample) from a larger group (population) to collect data and make conclusions about the whole population. Because studying an entire population is often impossible, costly, or time-consuming.\n",
        "\n",
        " •  Example: Instead of surveying all 10,000 students in a university, you collect opinions from 500 students (sample) and use that data to make conclusions about all students (population).\n",
        "Random Sampling\n",
        "\n",
        "•\tDefinition: A method where every individual in the population has an equal chance of being selected.\n",
        "\n",
        "•\tProcess: Use random methods (lottery, random number generator, etc.).\n",
        "\n",
        "•\tAdvantage: Minimizes bias, simple to understand.\n",
        "\n",
        "•\tDisadvantage: Might not represent sub-groups well if sample size is small.\n",
        "\n",
        "•\tExample: Out of 1,000 employees, you randomly pick 100 using a computer-generated random list.\n",
        "Stratified Sampling\n",
        "\n",
        "•\tDefinition: A method where the population is divided into subgroups (strata) based on specific characteristics (e.g., gender, age, income level), and then samples are taken from each stratum proportionally or equally.\n",
        "\n",
        "•\tPurpose: Ensures that important subgroups are represented in the sample.\n",
        "\n",
        "•\tAdvantage: More accurate and representative than pure random sampling when population is diverse.\n",
        "\n",
        "•\tDisadvantage: More complex and requires knowledge of population structure.\n",
        "\n",
        "•\tExample: A college has 60% male and 40% female students. If you want a sample of 100 students, stratified sampling ensures you select 60 males and 40 females (instead of leaving it to chance).\n",
        "\n",
        "\n",
        "\n",
        "Question 3: Define mean, median, and mode. Explain why these measures of central tendency are important.\n",
        "\n",
        "Answer:\n",
        "\n",
        " mean = balance point, median = middle, mode = most common.\n",
        "Mean (Arithmetic Average)\n",
        "\n",
        "•\tThe mean is the sum of all data values divided by the number of values.\n",
        "\n",
        "•\tFormula : Mean= sum of all observation / number of observation\n",
        "Median\n",
        "\n",
        "•\tThe median is the middle value when data is arranged in ascending (or descending) order.\n",
        "\n",
        "•\tIf number of values (n) is:\n",
        " o\tOdd → Median = middle value\n",
        " o\tEven → Median = average of two middle values\n",
        "Mode\n",
        "\n",
        "•\t The mode is the value that occurs most frequently in the dataset.\n",
        "\n",
        "•\tExample: Data = {2, 4, 4, 6, 6, 6, 8} → Mode = 6 (appears most often).\n",
        "Importance of Mean, Median, and Mode (Measures of Central Tendency):\n",
        "\n",
        "1.\tSummarizes data → Instead of handling large datasets, we can describe them using a single representative value.\n",
        "\n",
        "2.\tComparison → Helps compare different datasets easily (e.g., average income\n",
        "of two cities).\n",
        "\n",
        "3.\tDecision-making → Used in business, economics, and research to make conclusions.\n",
        "\n",
        "4.Balances different perspectives:\n",
        "o\tMean is useful when data is evenly distributed.\n",
        "o\tMedian is useful when data has extreme values (outliers).\n",
        "o\tMode is useful for categorical data (e.g., most common shoe size).\n",
        "\n",
        "\n",
        "\n",
        "\n",
        "Question 4: Explain skewness and kurtosis. What does a positive skew imply about the data?\n",
        "\n",
        "Answer:\n",
        " Skewness: Skewness measures the asymmetry of a data distribution around its mean.\n",
        "\n",
        "•\tA perfectly symmetrical distribution (like a normal distribution) has\n",
        "skewness = 0.\n",
        "\n",
        "Types of Skewness:\n",
        "\n",
        "1.\tPositive Skew (Right-Skewed)\n",
        "o\tTail is longer on the right side.\n",
        "o\tMost values are concentrated on the left, with a few very large values pulling the mean upward.\n",
        "o\tRelation of mean, median, mode: Mean > Median > Mode\n",
        "o\tExample: Income distribution (a few very rich people increase the average).\n",
        "\n",
        "2.\tNegative Skew (Left-Skewed)\n",
        "o\tTail is longer on the left side.\n",
        "o\tMost values are concentrated on the right, with a few very small values pulling the mean downward.\n",
        "o\tRelation of mean, median, mode: Mean < Median < Mode\n",
        "o\tExample: Age of retirement (most people retire at 60–65, but a few retire much earlier).\n",
        "Kurtosis: Kurtosis measures the \"tailedness\" or peakedness of a distribution compared to a normal distribution.\n",
        "\n",
        "•\tIt tells us about the likelihood of outliers.\n",
        "Types of Kurtosis:\n",
        "\n",
        "1.Mesokurtic (kurtosis ≈ 3)\n",
        "    o\tNormal distribution.\n",
        "\n",
        "2. Leptokurtic (kurtosis > 3)\n",
        "    o\tPeak is sharper, tails are fatter → more extreme outliers.\n",
        "    \n",
        "    o\tExample: Stock market returns (large ups and downs).\n",
        "\n",
        "3. Platykurtic (kurtosis < 3)\n",
        "    o\tFlatter peak, thinner tails → fewer extreme values.\n",
        "    \n",
        "    o\tExample: Uniform-like distributions.\n",
        "\n",
        "Positive Skew Meaning\n",
        "\n",
        "•\tA positive skew (right-skewed distribution) implies: The dataset has a long right tail.\n",
        "    \n",
        "   o\tMost values are small/clustered on the left, but a few very large values stretch the distribution to the right.\n",
        "    \n",
        "  o\tThe mean is larger than the median.\n",
        "    \n",
        "  o\tExample: Income, property prices, hospital stay durations."
      ],
      "metadata": {
        "id": "B07ez7IOmL6K"
      }
    },
    {
      "cell_type": "code",
      "source": [
        "#Implement a Python program to compute the mean, median, and mode of a given list of numbers.\n",
        "#numbers = [12, 15, 12, 18, 19, 12, 20, 22, 19, 19, 24, 24, 24, 26, 28]\n",
        "\n",
        "import statistics as stats\n",
        "numbers = [12, 15, 12, 18, 19, 12, 20, 22, 19, 19, 24, 24, 24, 26, 28]\n",
        "mean_val = stats.mean(numbers)\n",
        "median_val = stats.median(numbers)\n",
        "mode_val = stats.mode(numbers)\n",
        "\n",
        "print(\"Numbers:\", numbers)\n",
        "print(\"Mean:\", mean_val)\n",
        "print(\"Median:\", median_val)\n",
        "print(\"Mode:\", mode_val)\n"
      ],
      "metadata": {
        "colab": {
          "base_uri": "https://localhost:8080/"
        },
        "id": "gCZ7WeFWny_u",
        "outputId": "1e374a7a-ca00-40be-892e-2a350c16b4c4"
      },
      "execution_count": 1,
      "outputs": [
        {
          "output_type": "stream",
          "name": "stdout",
          "text": [
            "Numbers: [12, 15, 12, 18, 19, 12, 20, 22, 19, 19, 24, 24, 24, 26, 28]\n",
            "Mean: 19.6\n",
            "Median: 19\n",
            "Mode: 12\n"
          ]
        }
      ]
    },
    {
      "cell_type": "code",
      "source": [
        "# Compute the covariance and correlation coefficient between the following two datasets provided as lists in Python:\n",
        "# list_x = [10, 20, 30, 40, 50]\n",
        "# list_y = [15, 25, 35, 45, 60]\n",
        "\n",
        "import numpy as np\n",
        "list_x = [10, 20, 30, 40, 50]\n",
        "list_y = [15, 25, 35, 45, 60]\n",
        "\n",
        "x = np.array(list_x)\n",
        "y = np.array(list_y)\n",
        "\n",
        "cov_matrix = np.cov(x, y, bias=False)\n",
        "\n",
        "cov_xy = cov_matrix[0, 1]\n",
        "\n",
        "corr_xy = np.corrcoef(x, y)[0, 1]\n",
        "print(\"List X:\", list_x)\n",
        "print(\"List Y:\", list_y)\n",
        "print(\"Covariance (X,Y):\", cov_xy)\n",
        "print(\"Correlation Coefficient (X,Y):\", corr_xy)\n"
      ],
      "metadata": {
        "colab": {
          "base_uri": "https://localhost:8080/"
        },
        "id": "lMJv9oiWoMyr",
        "outputId": "acaddccf-db1e-4ab4-8540-e75fd17cd512"
      },
      "execution_count": 2,
      "outputs": [
        {
          "output_type": "stream",
          "name": "stdout",
          "text": [
            "List X: [10, 20, 30, 40, 50]\n",
            "List Y: [15, 25, 35, 45, 60]\n",
            "Covariance (X,Y): 275.0\n",
            "Correlation Coefficient (X,Y): 0.995893206467704\n"
          ]
        }
      ]
    },
    {
      "cell_type": "code",
      "source": [
        "# Write a Python script to draw a boxplot for the following numeric list and identify its outliers. Explain the result:\n",
        "# data = [12, 14, 14, 15, 18, 19, 19, 21, 22, 22, 23, 23, 24, 26, 29, 35]\n",
        "\n",
        "import matplotlib.pyplot as plt\n",
        "import seaborn as sns\n",
        "import numpy as np\n",
        "\n",
        "data = [12, 14, 14, 15, 18, 19, 19, 21, 22, 22, 23, 23, 24, 26, 29, 35]\n",
        "\n",
        "plt.figure(figsize=(6,4))\n",
        "sns.boxplot(data=data)\n",
        "plt.title(\"Boxplot of Data\")\n",
        "plt.show()\n",
        "\n",
        "Q1 = np.percentile(data, 25)  # First quartile (25th percentile)\n",
        "Q3 = np.percentile(data, 75)  # Third quartile (75th percentile)\n",
        "IQR = Q3 - Q1\n",
        "lower_bound = Q1 - 1.5 * IQR\n",
        "upper_bound = Q3 + 1.5 * IQR\n",
        "\n",
        "outliers = [x for x in data if x < lower_bound or x > upper_bound]\n",
        "\n",
        "print(\"Q1 (25th percentile):\", Q1)\n",
        "print(\"Q3 (75th percentile):\", Q3)\n",
        "print(\"IQR:\", IQR)\n",
        "print(\"Lower Bound:\", lower_bound)\n",
        "print(\"Upper Bound:\", upper_bound)\n",
        "print(\"Outliers:\", outliers)\n"
      ],
      "metadata": {
        "colab": {
          "base_uri": "https://localhost:8080/",
          "height": 481
        },
        "id": "c7qc1piCoUot",
        "outputId": "84ed2968-4cb6-4e54-b749-96442b607b6a"
      },
      "execution_count": 3,
      "outputs": [
        {
          "output_type": "display_data",
          "data": {
            "text/plain": [
              "<Figure size 600x400 with 1 Axes>"
            ],
            "image/png": "[encoded data removed]"
          },
          "metadata": {}
        },
        {
          "output_type": "stream",
          "name": "stdout",
          "text": [
            "Q1 (25th percentile): 17.25\n",
            "Q3 (75th percentile): 23.25\n",
            "IQR: 6.0\n",
            "Lower Bound: 8.25\n",
            "Upper Bound: 32.25\n",
            "Outliers: [35]\n"
          ]
        }
      ]
    },
    {
      "cell_type": "code",
      "source": [
        "# You are working as a data analyst in an e-commerce company. The marketing team wants to know if there is a relationship between advertising spend and daily sales.\n",
        "# Explain how you would use covariance and correlation to explore this relationship.\n",
        "# Write Python code to compute the correlation between the two lists:\n",
        "# advertising_spend = [200, 250, 300, 400, 500]\n",
        "# daily_sales = [2200, 2450, 2750, 3200, 4000]\n",
        "\n",
        "import numpy as np\n",
        "\n",
        "advertising_spend = [200, 250, 300, 400, 500]\n",
        "daily_sales = [2200, 2450, 2750, 3200, 4000]\n",
        "\n",
        "x = np.array(advertising_spend)\n",
        "y = np.array(daily_sales)\n",
        "\n",
        "cov_matrix = np.cov(x, y, bias=False)\n",
        "cov_xy = cov_matrix[0, 1]\n",
        "\n",
        "corr_xy = np.corrcoef(x, y)[0, 1]\n",
        "\n",
        "print(\"Covariance (Advertising vs Sales):\", cov_xy)\n",
        "print(\"Correlation (Advertising vs Sales):\", corr_xy)"
      ],
      "metadata": {
        "colab": {
          "base_uri": "https://localhost:8080/"
        },
        "id": "KvaASwZAp3OU",
        "outputId": "e3f0e8af-755a-40fe-814a-d005b9db7cd6"
      },
      "execution_count": 4,
      "outputs": [
        {
          "output_type": "stream",
          "name": "stdout",
          "text": [
            "Covariance (Advertising vs Sales): 84875.0\n",
            "Correlation (Advertising vs Sales): 0.9935824101653329\n"
          ]
        }
      ]
    },
    {
      "cell_type": "markdown",
      "source": [
        "**Using Covariance & Correlation**\n",
        "\n",
        "Covariance : Measures the direction of the relationship between two variables.\n",
        "\n",
        "- If positive → as advertising spend increases, sales also tend to increase.\n",
        "- If negative → as advertising spend increases, sales tend to decrease.\n",
        "\n",
        "Problem: The value of covariance is not standardized (depends on units), so it’s hard to compare across datasets.\n",
        "\n",
        "Correlation : Standardized form of covariance (always between -1 and +1).\n",
        "\n",
        "+1 → perfect positive relationship (variables move together).\n",
        "\n",
        "-1 → perfect negative relationship.\n",
        "\n",
        "0 → no linear relationship.\n",
        "\n",
        "Much more useful than covariance for interpreting strength of the relationship."
      ],
      "metadata": {
        "id": "O9IPpXLcqY9q"
      }
    },
    {
      "cell_type": "code",
      "source": [
        "# Your team has collected customer satisfaction survey data on a scale of\n",
        "# 1-10 and wants to understand its distribution before launching a new product.\n",
        "# Explain which summary statistics and visualizations (e.g. mean, standard deviation, histogram) you’d use.\n",
        "# Write Python code to create a histogram using Matplotlib for the survey data:\n",
        "# survey_scores = [7, 8, 5, 9, 6, 7, 8, 9, 10, 4, 7, 6, 9, 8, 7]\n",
        "\n",
        "import matplotlib.pyplot as plt\n",
        "import numpy as np\n",
        "import statistics as stats\n",
        "\n",
        "survey_scores = [7, 8, 5, 9, 6, 7, 8, 9, 10, 4, 7, 6, 9, 8, 7]\n",
        "\n",
        "mean_val = stats.mean(survey_scores)\n",
        "median_val = stats.median(survey_scores)\n",
        "mode_val = stats.mode(survey_scores)\n",
        "std_dev = np.std(survey_scores, ddof=1)\n",
        "print(\"Mean:\", mean_val)\n",
        "print(\"Median:\", median_val)\n",
        "print(\"Mode:\", mode_val)\n",
        "print(\"Standard Deviation:\", std_dev)\n",
        "\n",
        "plt.figure(figsize=(6,4))\n",
        "plt.hist(survey_scores, bins=6, edgecolor=\"black\", alpha=0.7)\n",
        "plt.title(\"Customer Satisfaction Survey Distribution\")\n",
        "plt.xlabel(\"Survey Score (1–10)\")\n",
        "plt.ylabel(\"Frequency\")\n",
        "plt.show()\n"
      ],
      "metadata": {
        "colab": {
          "base_uri": "https://localhost:8080/",
          "height": 482
        },
        "id": "GZuofKmDq7n-",
        "outputId": "4cff7a0b-ffc1-4372-e7d4-2310c6835c71"
      },
      "execution_count": 5,
      "outputs": [
        {
          "output_type": "stream",
          "name": "stdout",
          "text": [
            "Mean: 7.333333333333333\n",
            "Median: 7\n",
            "Mode: 7\n",
            "Standard Deviation: 1.632993161855452\n"
          ]
        },
        {
          "output_type": "display_data",
          "data": {
            "text/plain": [
              "<Figure size 600x400 with 1 Axes>"
            ],
            "image/png": "[encoded data removed]"
          },
          "metadata": {}
        }
      ]
    },
    {
      "cell_type": "markdown",
      "source": [
        "**Summary Statistics to Use** : To understand customer satisfaction survey scores (1–10 scale), I’d compute:\n",
        "\n",
        "- Mean → average satisfaction level.\n",
        "\n",
        "- Median → middle value (less affected by outliers).\n",
        "\n",
        "- Mode → most common score (useful if many customers gave the same rating).\n",
        "\n",
        "- Standard Deviation (SD) → spread of scores (are most customers close to average or widely spread?).\n",
        "\n",
        "- Minimum & Maximum → range of satisfaction levels.\n",
        "\n",
        "**Visualizations**\n",
        "\n",
        "- Histogram → shows the frequency distribution of scores (which ratings are most common).\n",
        "\n",
        "- Boxplot → shows median, quartiles, and potential outliers.\n",
        "\n",
        "- Bar Chart (if aggregated by mode) → shows counts of each rating."
      ],
      "metadata": {
        "id": "aFfq6uW1rYcW"
      }
    }
  ]
}